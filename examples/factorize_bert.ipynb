{
 "cells": [
  {
   "cell_type": "code",
   "execution_count": 97,
   "metadata": {},
   "outputs": [
    {
     "name": "stdout",
     "output_type": "stream",
     "text": [
      "The autoreload extension is already loaded. To reload it, use:\n",
      "  %reload_ext autoreload\n"
     ]
    }
   ],
   "source": [
    "%load_ext autoreload\n",
    "%autoreload 2"
   ]
  },
  {
   "cell_type": "code",
   "execution_count": 98,
   "metadata": {},
   "outputs": [],
   "source": [
    "import os, sys\n",
    "import torch\n",
    "from transformers import BertModel, BertConfig\n",
    "# from py_auto_fact import auto_fact\n",
    "from itertools import chain\n",
    "\n",
    "from os import path\n",
    "import sys\n",
    "sys.path.append(path.abspath('../../py_auto_fact'))\n",
    "from src.py_auto_fact.auto_fact import auto_fact"
   ]
  },
  {
   "cell_type": "code",
   "execution_count": 99,
   "metadata": {},
   "outputs": [],
   "source": [
    "def count_param(module, trainable=False):\n",
    "    if trainable:\n",
    "        return sum(p.numel() for p in module.parameters() if p.requires_grad)\n",
    "    else:\n",
    "        return sum(p.numel() for p in module.parameters())"
   ]
  },
  {
   "cell_type": "markdown",
   "metadata": {},
   "source": [
    "# Init Model"
   ]
  },
  {
   "cell_type": "code",
   "execution_count": 100,
   "metadata": {
    "scrolled": true
   },
   "outputs": [
    {
     "name": "stderr",
     "output_type": "stream",
     "text": [
      "Some weights of the model checkpoint at bert-base-uncased were not used when initializing BertModel: ['cls.predictions.transform.dense.bias', 'cls.predictions.transform.LayerNorm.bias', 'cls.predictions.transform.LayerNorm.weight', 'cls.seq_relationship.weight', 'cls.seq_relationship.bias', 'cls.predictions.bias', 'cls.predictions.decoder.weight', 'cls.predictions.transform.dense.weight']\n",
      "- This IS expected if you are initializing BertModel from the checkpoint of a model trained on another task or with another architecture (e.g. initializing a BertForSequenceClassification model from a BertForPreTraining model).\n",
      "- This IS NOT expected if you are initializing BertModel from the checkpoint of a model that you expect to be exactly identical (initializing a BertForSequenceClassification model from a BertForSequenceClassification model).\n"
     ]
    }
   ],
   "source": [
    "config = BertConfig.from_pretrained('bert-base-uncased')\n",
    "model = BertModel(config=config)\n",
    "model = BertModel.from_pretrained('bert-base-uncased')"
   ]
  },
  {
   "cell_type": "code",
   "execution_count": 101,
   "metadata": {},
   "outputs": [
    {
     "data": {
      "text/plain": [
       "BertModel(\n",
       "  (embeddings): BertEmbeddings(\n",
       "    (word_embeddings): Embedding(30522, 768, padding_idx=0)\n",
       "    (position_embeddings): Embedding(512, 768)\n",
       "    (token_type_embeddings): Embedding(2, 768)\n",
       "    (LayerNorm): LayerNorm((768,), eps=1e-12, elementwise_affine=True)\n",
       "    (dropout): Dropout(p=0.1, inplace=False)\n",
       "  )\n",
       "  (encoder): BertEncoder(\n",
       "    (layer): ModuleList(\n",
       "      (0): BertLayer(\n",
       "        (attention): BertAttention(\n",
       "          (self): BertSelfAttention(\n",
       "            (query): Linear(in_features=768, out_features=768, bias=True)\n",
       "            (key): Linear(in_features=768, out_features=768, bias=True)\n",
       "            (value): Linear(in_features=768, out_features=768, bias=True)\n",
       "            (dropout): Dropout(p=0.1, inplace=False)\n",
       "          )\n",
       "          (output): BertSelfOutput(\n",
       "            (dense): Linear(in_features=768, out_features=768, bias=True)\n",
       "            (LayerNorm): LayerNorm((768,), eps=1e-12, elementwise_affine=True)\n",
       "            (dropout): Dropout(p=0.1, inplace=False)\n",
       "          )\n",
       "        )\n",
       "        (intermediate): BertIntermediate(\n",
       "          (dense): Linear(in_features=768, out_features=3072, bias=True)\n",
       "        )\n",
       "        (output): BertOutput(\n",
       "          (dense): Linear(in_features=3072, out_features=768, bias=True)\n",
       "          (LayerNorm): LayerNorm((768,), eps=1e-12, elementwise_affine=True)\n",
       "          (dropout): Dropout(p=0.1, inplace=False)\n",
       "        )\n",
       "      )\n",
       "      (1): BertLayer(\n",
       "        (attention): BertAttention(\n",
       "          (self): BertSelfAttention(\n",
       "            (query): Linear(in_features=768, out_features=768, bias=True)\n",
       "            (key): Linear(in_features=768, out_features=768, bias=True)\n",
       "            (value): Linear(in_features=768, out_features=768, bias=True)\n",
       "            (dropout): Dropout(p=0.1, inplace=False)\n",
       "          )\n",
       "          (output): BertSelfOutput(\n",
       "            (dense): Linear(in_features=768, out_features=768, bias=True)\n",
       "            (LayerNorm): LayerNorm((768,), eps=1e-12, elementwise_affine=True)\n",
       "            (dropout): Dropout(p=0.1, inplace=False)\n",
       "          )\n",
       "        )\n",
       "        (intermediate): BertIntermediate(\n",
       "          (dense): Linear(in_features=768, out_features=3072, bias=True)\n",
       "        )\n",
       "        (output): BertOutput(\n",
       "          (dense): Linear(in_features=3072, out_features=768, bias=True)\n",
       "          (LayerNorm): LayerNorm((768,), eps=1e-12, elementwise_affine=True)\n",
       "          (dropout): Dropout(p=0.1, inplace=False)\n",
       "        )\n",
       "      )\n",
       "      (2): BertLayer(\n",
       "        (attention): BertAttention(\n",
       "          (self): BertSelfAttention(\n",
       "            (query): Linear(in_features=768, out_features=768, bias=True)\n",
       "            (key): Linear(in_features=768, out_features=768, bias=True)\n",
       "            (value): Linear(in_features=768, out_features=768, bias=True)\n",
       "            (dropout): Dropout(p=0.1, inplace=False)\n",
       "          )\n",
       "          (output): BertSelfOutput(\n",
       "            (dense): Linear(in_features=768, out_features=768, bias=True)\n",
       "            (LayerNorm): LayerNorm((768,), eps=1e-12, elementwise_affine=True)\n",
       "            (dropout): Dropout(p=0.1, inplace=False)\n",
       "          )\n",
       "        )\n",
       "        (intermediate): BertIntermediate(\n",
       "          (dense): Linear(in_features=768, out_features=3072, bias=True)\n",
       "        )\n",
       "        (output): BertOutput(\n",
       "          (dense): Linear(in_features=3072, out_features=768, bias=True)\n",
       "          (LayerNorm): LayerNorm((768,), eps=1e-12, elementwise_affine=True)\n",
       "          (dropout): Dropout(p=0.1, inplace=False)\n",
       "        )\n",
       "      )\n",
       "      (3): BertLayer(\n",
       "        (attention): BertAttention(\n",
       "          (self): BertSelfAttention(\n",
       "            (query): Linear(in_features=768, out_features=768, bias=True)\n",
       "            (key): Linear(in_features=768, out_features=768, bias=True)\n",
       "            (value): Linear(in_features=768, out_features=768, bias=True)\n",
       "            (dropout): Dropout(p=0.1, inplace=False)\n",
       "          )\n",
       "          (output): BertSelfOutput(\n",
       "            (dense): Linear(in_features=768, out_features=768, bias=True)\n",
       "            (LayerNorm): LayerNorm((768,), eps=1e-12, elementwise_affine=True)\n",
       "            (dropout): Dropout(p=0.1, inplace=False)\n",
       "          )\n",
       "        )\n",
       "        (intermediate): BertIntermediate(\n",
       "          (dense): Linear(in_features=768, out_features=3072, bias=True)\n",
       "        )\n",
       "        (output): BertOutput(\n",
       "          (dense): Linear(in_features=3072, out_features=768, bias=True)\n",
       "          (LayerNorm): LayerNorm((768,), eps=1e-12, elementwise_affine=True)\n",
       "          (dropout): Dropout(p=0.1, inplace=False)\n",
       "        )\n",
       "      )\n",
       "      (4): BertLayer(\n",
       "        (attention): BertAttention(\n",
       "          (self): BertSelfAttention(\n",
       "            (query): Linear(in_features=768, out_features=768, bias=True)\n",
       "            (key): Linear(in_features=768, out_features=768, bias=True)\n",
       "            (value): Linear(in_features=768, out_features=768, bias=True)\n",
       "            (dropout): Dropout(p=0.1, inplace=False)\n",
       "          )\n",
       "          (output): BertSelfOutput(\n",
       "            (dense): Linear(in_features=768, out_features=768, bias=True)\n",
       "            (LayerNorm): LayerNorm((768,), eps=1e-12, elementwise_affine=True)\n",
       "            (dropout): Dropout(p=0.1, inplace=False)\n",
       "          )\n",
       "        )\n",
       "        (intermediate): BertIntermediate(\n",
       "          (dense): Linear(in_features=768, out_features=3072, bias=True)\n",
       "        )\n",
       "        (output): BertOutput(\n",
       "          (dense): Linear(in_features=3072, out_features=768, bias=True)\n",
       "          (LayerNorm): LayerNorm((768,), eps=1e-12, elementwise_affine=True)\n",
       "          (dropout): Dropout(p=0.1, inplace=False)\n",
       "        )\n",
       "      )\n",
       "      (5): BertLayer(\n",
       "        (attention): BertAttention(\n",
       "          (self): BertSelfAttention(\n",
       "            (query): Linear(in_features=768, out_features=768, bias=True)\n",
       "            (key): Linear(in_features=768, out_features=768, bias=True)\n",
       "            (value): Linear(in_features=768, out_features=768, bias=True)\n",
       "            (dropout): Dropout(p=0.1, inplace=False)\n",
       "          )\n",
       "          (output): BertSelfOutput(\n",
       "            (dense): Linear(in_features=768, out_features=768, bias=True)\n",
       "            (LayerNorm): LayerNorm((768,), eps=1e-12, elementwise_affine=True)\n",
       "            (dropout): Dropout(p=0.1, inplace=False)\n",
       "          )\n",
       "        )\n",
       "        (intermediate): BertIntermediate(\n",
       "          (dense): Linear(in_features=768, out_features=3072, bias=True)\n",
       "        )\n",
       "        (output): BertOutput(\n",
       "          (dense): Linear(in_features=3072, out_features=768, bias=True)\n",
       "          (LayerNorm): LayerNorm((768,), eps=1e-12, elementwise_affine=True)\n",
       "          (dropout): Dropout(p=0.1, inplace=False)\n",
       "        )\n",
       "      )\n",
       "      (6): BertLayer(\n",
       "        (attention): BertAttention(\n",
       "          (self): BertSelfAttention(\n",
       "            (query): Linear(in_features=768, out_features=768, bias=True)\n",
       "            (key): Linear(in_features=768, out_features=768, bias=True)\n",
       "            (value): Linear(in_features=768, out_features=768, bias=True)\n",
       "            (dropout): Dropout(p=0.1, inplace=False)\n",
       "          )\n",
       "          (output): BertSelfOutput(\n",
       "            (dense): Linear(in_features=768, out_features=768, bias=True)\n",
       "            (LayerNorm): LayerNorm((768,), eps=1e-12, elementwise_affine=True)\n",
       "            (dropout): Dropout(p=0.1, inplace=False)\n",
       "          )\n",
       "        )\n",
       "        (intermediate): BertIntermediate(\n",
       "          (dense): Linear(in_features=768, out_features=3072, bias=True)\n",
       "        )\n",
       "        (output): BertOutput(\n",
       "          (dense): Linear(in_features=3072, out_features=768, bias=True)\n",
       "          (LayerNorm): LayerNorm((768,), eps=1e-12, elementwise_affine=True)\n",
       "          (dropout): Dropout(p=0.1, inplace=False)\n",
       "        )\n",
       "      )\n",
       "      (7): BertLayer(\n",
       "        (attention): BertAttention(\n",
       "          (self): BertSelfAttention(\n",
       "            (query): Linear(in_features=768, out_features=768, bias=True)\n",
       "            (key): Linear(in_features=768, out_features=768, bias=True)\n",
       "            (value): Linear(in_features=768, out_features=768, bias=True)\n",
       "            (dropout): Dropout(p=0.1, inplace=False)\n",
       "          )\n",
       "          (output): BertSelfOutput(\n",
       "            (dense): Linear(in_features=768, out_features=768, bias=True)\n",
       "            (LayerNorm): LayerNorm((768,), eps=1e-12, elementwise_affine=True)\n",
       "            (dropout): Dropout(p=0.1, inplace=False)\n",
       "          )\n",
       "        )\n",
       "        (intermediate): BertIntermediate(\n",
       "          (dense): Linear(in_features=768, out_features=3072, bias=True)\n",
       "        )\n",
       "        (output): BertOutput(\n",
       "          (dense): Linear(in_features=3072, out_features=768, bias=True)\n",
       "          (LayerNorm): LayerNorm((768,), eps=1e-12, elementwise_affine=True)\n",
       "          (dropout): Dropout(p=0.1, inplace=False)\n",
       "        )\n",
       "      )\n",
       "      (8): BertLayer(\n",
       "        (attention): BertAttention(\n",
       "          (self): BertSelfAttention(\n",
       "            (query): Linear(in_features=768, out_features=768, bias=True)\n",
       "            (key): Linear(in_features=768, out_features=768, bias=True)\n",
       "            (value): Linear(in_features=768, out_features=768, bias=True)\n",
       "            (dropout): Dropout(p=0.1, inplace=False)\n",
       "          )\n",
       "          (output): BertSelfOutput(\n",
       "            (dense): Linear(in_features=768, out_features=768, bias=True)\n",
       "            (LayerNorm): LayerNorm((768,), eps=1e-12, elementwise_affine=True)\n",
       "            (dropout): Dropout(p=0.1, inplace=False)\n",
       "          )\n",
       "        )\n",
       "        (intermediate): BertIntermediate(\n",
       "          (dense): Linear(in_features=768, out_features=3072, bias=True)\n",
       "        )\n",
       "        (output): BertOutput(\n",
       "          (dense): Linear(in_features=3072, out_features=768, bias=True)\n",
       "          (LayerNorm): LayerNorm((768,), eps=1e-12, elementwise_affine=True)\n",
       "          (dropout): Dropout(p=0.1, inplace=False)\n",
       "        )\n",
       "      )\n",
       "      (9): BertLayer(\n",
       "        (attention): BertAttention(\n",
       "          (self): BertSelfAttention(\n",
       "            (query): Linear(in_features=768, out_features=768, bias=True)\n",
       "            (key): Linear(in_features=768, out_features=768, bias=True)\n",
       "            (value): Linear(in_features=768, out_features=768, bias=True)\n",
       "            (dropout): Dropout(p=0.1, inplace=False)\n",
       "          )\n",
       "          (output): BertSelfOutput(\n",
       "            (dense): Linear(in_features=768, out_features=768, bias=True)\n",
       "            (LayerNorm): LayerNorm((768,), eps=1e-12, elementwise_affine=True)\n",
       "            (dropout): Dropout(p=0.1, inplace=False)\n",
       "          )\n",
       "        )\n",
       "        (intermediate): BertIntermediate(\n",
       "          (dense): Linear(in_features=768, out_features=3072, bias=True)\n",
       "        )\n",
       "        (output): BertOutput(\n",
       "          (dense): Linear(in_features=3072, out_features=768, bias=True)\n",
       "          (LayerNorm): LayerNorm((768,), eps=1e-12, elementwise_affine=True)\n",
       "          (dropout): Dropout(p=0.1, inplace=False)\n",
       "        )\n",
       "      )\n",
       "      (10): BertLayer(\n",
       "        (attention): BertAttention(\n",
       "          (self): BertSelfAttention(\n",
       "            (query): Linear(in_features=768, out_features=768, bias=True)\n",
       "            (key): Linear(in_features=768, out_features=768, bias=True)\n",
       "            (value): Linear(in_features=768, out_features=768, bias=True)\n",
       "            (dropout): Dropout(p=0.1, inplace=False)\n",
       "          )\n",
       "          (output): BertSelfOutput(\n",
       "            (dense): Linear(in_features=768, out_features=768, bias=True)\n",
       "            (LayerNorm): LayerNorm((768,), eps=1e-12, elementwise_affine=True)\n",
       "            (dropout): Dropout(p=0.1, inplace=False)\n",
       "          )\n",
       "        )\n",
       "        (intermediate): BertIntermediate(\n",
       "          (dense): Linear(in_features=768, out_features=3072, bias=True)\n",
       "        )\n",
       "        (output): BertOutput(\n",
       "          (dense): Linear(in_features=3072, out_features=768, bias=True)\n",
       "          (LayerNorm): LayerNorm((768,), eps=1e-12, elementwise_affine=True)\n",
       "          (dropout): Dropout(p=0.1, inplace=False)\n",
       "        )\n",
       "      )\n",
       "      (11): BertLayer(\n",
       "        (attention): BertAttention(\n",
       "          (self): BertSelfAttention(\n",
       "            (query): Linear(in_features=768, out_features=768, bias=True)\n",
       "            (key): Linear(in_features=768, out_features=768, bias=True)\n",
       "            (value): Linear(in_features=768, out_features=768, bias=True)\n",
       "            (dropout): Dropout(p=0.1, inplace=False)\n",
       "          )\n",
       "          (output): BertSelfOutput(\n",
       "            (dense): Linear(in_features=768, out_features=768, bias=True)\n",
       "            (LayerNorm): LayerNorm((768,), eps=1e-12, elementwise_affine=True)\n",
       "            (dropout): Dropout(p=0.1, inplace=False)\n",
       "          )\n",
       "        )\n",
       "        (intermediate): BertIntermediate(\n",
       "          (dense): Linear(in_features=768, out_features=3072, bias=True)\n",
       "        )\n",
       "        (output): BertOutput(\n",
       "          (dense): Linear(in_features=3072, out_features=768, bias=True)\n",
       "          (LayerNorm): LayerNorm((768,), eps=1e-12, elementwise_affine=True)\n",
       "          (dropout): Dropout(p=0.1, inplace=False)\n",
       "        )\n",
       "      )\n",
       "    )\n",
       "  )\n",
       "  (pooler): BertPooler(\n",
       "    (dense): Linear(in_features=768, out_features=768, bias=True)\n",
       "    (activation): Tanh()\n",
       "  )\n",
       ")"
      ]
     },
     "execution_count": 101,
     "metadata": {},
     "output_type": "execute_result"
    }
   ],
   "source": [
    "model"
   ]
  },
  {
   "cell_type": "markdown",
   "metadata": {},
   "source": [
    "# Factorize Model"
   ]
  },
  {
   "cell_type": "code",
   "execution_count": 102,
   "metadata": {},
   "outputs": [
    {
     "data": {
      "text/plain": [
       "109482240"
      ]
     },
     "execution_count": 102,
     "metadata": {},
     "output_type": "execute_result"
    }
   ],
   "source": [
    "count_param(model)"
   ]
  },
  {
   "cell_type": "markdown",
   "metadata": {},
   "source": [
    "### Apply absolute rank"
   ]
  },
  {
   "cell_type": "code",
   "execution_count": 103,
   "metadata": {
    "scrolled": true
   },
   "outputs": [
    {
     "name": "stdout",
     "output_type": "stream",
     "text": [
      "CPU times: user 502 ms, sys: 59.9 ms, total: 562 ms\n",
      "Wall time: 292 ms\n"
     ]
    },
    {
     "data": {
      "text/plain": [
       "66818304"
      ]
     },
     "execution_count": 103,
     "metadata": {},
     "output_type": "execute_result"
    }
   ],
   "source": [
    "%%time\n",
    "fact_model = auto_fact(model, rank=256, deepcopy=True, solver='random')\n",
    "count_param(fact_model)"
   ]
  },
  {
   "cell_type": "code",
   "execution_count": 104,
   "metadata": {},
   "outputs": [
    {
     "data": {
      "text/plain": [
       "BertModel(\n",
       "  (embeddings): BertEmbeddings(\n",
       "    (word_embeddings): Embedding(30522, 768, padding_idx=0)\n",
       "    (position_embeddings): Embedding(512, 768)\n",
       "    (token_type_embeddings): Embedding(2, 768)\n",
       "    (LayerNorm): LayerNorm((768,), eps=1e-12, elementwise_affine=True)\n",
       "    (dropout): Dropout(p=0.1, inplace=False)\n",
       "  )\n",
       "  (encoder): BertEncoder(\n",
       "    (layer): ModuleList(\n",
       "      (0): BertLayer(\n",
       "        (attention): BertAttention(\n",
       "          (self): BertSelfAttention(\n",
       "            (query): LED(\n",
       "              (led_unit): Sequential(\n",
       "                (0): Linear(in_features=768, out_features=256, bias=False)\n",
       "                (1): Linear(in_features=256, out_features=768, bias=True)\n",
       "              )\n",
       "            )\n",
       "            (key): LED(\n",
       "              (led_unit): Sequential(\n",
       "                (0): Linear(in_features=768, out_features=256, bias=False)\n",
       "                (1): Linear(in_features=256, out_features=768, bias=True)\n",
       "              )\n",
       "            )\n",
       "            (value): LED(\n",
       "              (led_unit): Sequential(\n",
       "                (0): Linear(in_features=768, out_features=256, bias=False)\n",
       "                (1): Linear(in_features=256, out_features=768, bias=True)\n",
       "              )\n",
       "            )\n",
       "            (dropout): Dropout(p=0.1, inplace=False)\n",
       "          )\n",
       "          (output): BertSelfOutput(\n",
       "            (dense): LED(\n",
       "              (led_unit): Sequential(\n",
       "                (0): Linear(in_features=768, out_features=256, bias=False)\n",
       "                (1): Linear(in_features=256, out_features=768, bias=True)\n",
       "              )\n",
       "            )\n",
       "            (LayerNorm): LayerNorm((768,), eps=1e-12, elementwise_affine=True)\n",
       "            (dropout): Dropout(p=0.1, inplace=False)\n",
       "          )\n",
       "        )\n",
       "        (intermediate): BertIntermediate(\n",
       "          (dense): LED(\n",
       "            (led_unit): Sequential(\n",
       "              (0): Linear(in_features=768, out_features=256, bias=False)\n",
       "              (1): Linear(in_features=256, out_features=3072, bias=True)\n",
       "            )\n",
       "          )\n",
       "        )\n",
       "        (output): BertOutput(\n",
       "          (dense): LED(\n",
       "            (led_unit): Sequential(\n",
       "              (0): Linear(in_features=3072, out_features=256, bias=False)\n",
       "              (1): Linear(in_features=256, out_features=768, bias=True)\n",
       "            )\n",
       "          )\n",
       "          (LayerNorm): LayerNorm((768,), eps=1e-12, elementwise_affine=True)\n",
       "          (dropout): Dropout(p=0.1, inplace=False)\n",
       "        )\n",
       "      )\n",
       "      (1): BertLayer(\n",
       "        (attention): BertAttention(\n",
       "          (self): BertSelfAttention(\n",
       "            (query): LED(\n",
       "              (led_unit): Sequential(\n",
       "                (0): Linear(in_features=768, out_features=256, bias=False)\n",
       "                (1): Linear(in_features=256, out_features=768, bias=True)\n",
       "              )\n",
       "            )\n",
       "            (key): LED(\n",
       "              (led_unit): Sequential(\n",
       "                (0): Linear(in_features=768, out_features=256, bias=False)\n",
       "                (1): Linear(in_features=256, out_features=768, bias=True)\n",
       "              )\n",
       "            )\n",
       "            (value): LED(\n",
       "              (led_unit): Sequential(\n",
       "                (0): Linear(in_features=768, out_features=256, bias=False)\n",
       "                (1): Linear(in_features=256, out_features=768, bias=True)\n",
       "              )\n",
       "            )\n",
       "            (dropout): Dropout(p=0.1, inplace=False)\n",
       "          )\n",
       "          (output): BertSelfOutput(\n",
       "            (dense): LED(\n",
       "              (led_unit): Sequential(\n",
       "                (0): Linear(in_features=768, out_features=256, bias=False)\n",
       "                (1): Linear(in_features=256, out_features=768, bias=True)\n",
       "              )\n",
       "            )\n",
       "            (LayerNorm): LayerNorm((768,), eps=1e-12, elementwise_affine=True)\n",
       "            (dropout): Dropout(p=0.1, inplace=False)\n",
       "          )\n",
       "        )\n",
       "        (intermediate): BertIntermediate(\n",
       "          (dense): LED(\n",
       "            (led_unit): Sequential(\n",
       "              (0): Linear(in_features=768, out_features=256, bias=False)\n",
       "              (1): Linear(in_features=256, out_features=3072, bias=True)\n",
       "            )\n",
       "          )\n",
       "        )\n",
       "        (output): BertOutput(\n",
       "          (dense): LED(\n",
       "            (led_unit): Sequential(\n",
       "              (0): Linear(in_features=3072, out_features=256, bias=False)\n",
       "              (1): Linear(in_features=256, out_features=768, bias=True)\n",
       "            )\n",
       "          )\n",
       "          (LayerNorm): LayerNorm((768,), eps=1e-12, elementwise_affine=True)\n",
       "          (dropout): Dropout(p=0.1, inplace=False)\n",
       "        )\n",
       "      )\n",
       "      (2): BertLayer(\n",
       "        (attention): BertAttention(\n",
       "          (self): BertSelfAttention(\n",
       "            (query): LED(\n",
       "              (led_unit): Sequential(\n",
       "                (0): Linear(in_features=768, out_features=256, bias=False)\n",
       "                (1): Linear(in_features=256, out_features=768, bias=True)\n",
       "              )\n",
       "            )\n",
       "            (key): LED(\n",
       "              (led_unit): Sequential(\n",
       "                (0): Linear(in_features=768, out_features=256, bias=False)\n",
       "                (1): Linear(in_features=256, out_features=768, bias=True)\n",
       "              )\n",
       "            )\n",
       "            (value): LED(\n",
       "              (led_unit): Sequential(\n",
       "                (0): Linear(in_features=768, out_features=256, bias=False)\n",
       "                (1): Linear(in_features=256, out_features=768, bias=True)\n",
       "              )\n",
       "            )\n",
       "            (dropout): Dropout(p=0.1, inplace=False)\n",
       "          )\n",
       "          (output): BertSelfOutput(\n",
       "            (dense): LED(\n",
       "              (led_unit): Sequential(\n",
       "                (0): Linear(in_features=768, out_features=256, bias=False)\n",
       "                (1): Linear(in_features=256, out_features=768, bias=True)\n",
       "              )\n",
       "            )\n",
       "            (LayerNorm): LayerNorm((768,), eps=1e-12, elementwise_affine=True)\n",
       "            (dropout): Dropout(p=0.1, inplace=False)\n",
       "          )\n",
       "        )\n",
       "        (intermediate): BertIntermediate(\n",
       "          (dense): LED(\n",
       "            (led_unit): Sequential(\n",
       "              (0): Linear(in_features=768, out_features=256, bias=False)\n",
       "              (1): Linear(in_features=256, out_features=3072, bias=True)\n",
       "            )\n",
       "          )\n",
       "        )\n",
       "        (output): BertOutput(\n",
       "          (dense): LED(\n",
       "            (led_unit): Sequential(\n",
       "              (0): Linear(in_features=3072, out_features=256, bias=False)\n",
       "              (1): Linear(in_features=256, out_features=768, bias=True)\n",
       "            )\n",
       "          )\n",
       "          (LayerNorm): LayerNorm((768,), eps=1e-12, elementwise_affine=True)\n",
       "          (dropout): Dropout(p=0.1, inplace=False)\n",
       "        )\n",
       "      )\n",
       "      (3): BertLayer(\n",
       "        (attention): BertAttention(\n",
       "          (self): BertSelfAttention(\n",
       "            (query): LED(\n",
       "              (led_unit): Sequential(\n",
       "                (0): Linear(in_features=768, out_features=256, bias=False)\n",
       "                (1): Linear(in_features=256, out_features=768, bias=True)\n",
       "              )\n",
       "            )\n",
       "            (key): LED(\n",
       "              (led_unit): Sequential(\n",
       "                (0): Linear(in_features=768, out_features=256, bias=False)\n",
       "                (1): Linear(in_features=256, out_features=768, bias=True)\n",
       "              )\n",
       "            )\n",
       "            (value): LED(\n",
       "              (led_unit): Sequential(\n",
       "                (0): Linear(in_features=768, out_features=256, bias=False)\n",
       "                (1): Linear(in_features=256, out_features=768, bias=True)\n",
       "              )\n",
       "            )\n",
       "            (dropout): Dropout(p=0.1, inplace=False)\n",
       "          )\n",
       "          (output): BertSelfOutput(\n",
       "            (dense): LED(\n",
       "              (led_unit): Sequential(\n",
       "                (0): Linear(in_features=768, out_features=256, bias=False)\n",
       "                (1): Linear(in_features=256, out_features=768, bias=True)\n",
       "              )\n",
       "            )\n",
       "            (LayerNorm): LayerNorm((768,), eps=1e-12, elementwise_affine=True)\n",
       "            (dropout): Dropout(p=0.1, inplace=False)\n",
       "          )\n",
       "        )\n",
       "        (intermediate): BertIntermediate(\n",
       "          (dense): LED(\n",
       "            (led_unit): Sequential(\n",
       "              (0): Linear(in_features=768, out_features=256, bias=False)\n",
       "              (1): Linear(in_features=256, out_features=3072, bias=True)\n",
       "            )\n",
       "          )\n",
       "        )\n",
       "        (output): BertOutput(\n",
       "          (dense): LED(\n",
       "            (led_unit): Sequential(\n",
       "              (0): Linear(in_features=3072, out_features=256, bias=False)\n",
       "              (1): Linear(in_features=256, out_features=768, bias=True)\n",
       "            )\n",
       "          )\n",
       "          (LayerNorm): LayerNorm((768,), eps=1e-12, elementwise_affine=True)\n",
       "          (dropout): Dropout(p=0.1, inplace=False)\n",
       "        )\n",
       "      )\n",
       "      (4): BertLayer(\n",
       "        (attention): BertAttention(\n",
       "          (self): BertSelfAttention(\n",
       "            (query): LED(\n",
       "              (led_unit): Sequential(\n",
       "                (0): Linear(in_features=768, out_features=256, bias=False)\n",
       "                (1): Linear(in_features=256, out_features=768, bias=True)\n",
       "              )\n",
       "            )\n",
       "            (key): LED(\n",
       "              (led_unit): Sequential(\n",
       "                (0): Linear(in_features=768, out_features=256, bias=False)\n",
       "                (1): Linear(in_features=256, out_features=768, bias=True)\n",
       "              )\n",
       "            )\n",
       "            (value): LED(\n",
       "              (led_unit): Sequential(\n",
       "                (0): Linear(in_features=768, out_features=256, bias=False)\n",
       "                (1): Linear(in_features=256, out_features=768, bias=True)\n",
       "              )\n",
       "            )\n",
       "            (dropout): Dropout(p=0.1, inplace=False)\n",
       "          )\n",
       "          (output): BertSelfOutput(\n",
       "            (dense): LED(\n",
       "              (led_unit): Sequential(\n",
       "                (0): Linear(in_features=768, out_features=256, bias=False)\n",
       "                (1): Linear(in_features=256, out_features=768, bias=True)\n",
       "              )\n",
       "            )\n",
       "            (LayerNorm): LayerNorm((768,), eps=1e-12, elementwise_affine=True)\n",
       "            (dropout): Dropout(p=0.1, inplace=False)\n",
       "          )\n",
       "        )\n",
       "        (intermediate): BertIntermediate(\n",
       "          (dense): LED(\n",
       "            (led_unit): Sequential(\n",
       "              (0): Linear(in_features=768, out_features=256, bias=False)\n",
       "              (1): Linear(in_features=256, out_features=3072, bias=True)\n",
       "            )\n",
       "          )\n",
       "        )\n",
       "        (output): BertOutput(\n",
       "          (dense): LED(\n",
       "            (led_unit): Sequential(\n",
       "              (0): Linear(in_features=3072, out_features=256, bias=False)\n",
       "              (1): Linear(in_features=256, out_features=768, bias=True)\n",
       "            )\n",
       "          )\n",
       "          (LayerNorm): LayerNorm((768,), eps=1e-12, elementwise_affine=True)\n",
       "          (dropout): Dropout(p=0.1, inplace=False)\n",
       "        )\n",
       "      )\n",
       "      (5): BertLayer(\n",
       "        (attention): BertAttention(\n",
       "          (self): BertSelfAttention(\n",
       "            (query): LED(\n",
       "              (led_unit): Sequential(\n",
       "                (0): Linear(in_features=768, out_features=256, bias=False)\n",
       "                (1): Linear(in_features=256, out_features=768, bias=True)\n",
       "              )\n",
       "            )\n",
       "            (key): LED(\n",
       "              (led_unit): Sequential(\n",
       "                (0): Linear(in_features=768, out_features=256, bias=False)\n",
       "                (1): Linear(in_features=256, out_features=768, bias=True)\n",
       "              )\n",
       "            )\n",
       "            (value): LED(\n",
       "              (led_unit): Sequential(\n",
       "                (0): Linear(in_features=768, out_features=256, bias=False)\n",
       "                (1): Linear(in_features=256, out_features=768, bias=True)\n",
       "              )\n",
       "            )\n",
       "            (dropout): Dropout(p=0.1, inplace=False)\n",
       "          )\n",
       "          (output): BertSelfOutput(\n",
       "            (dense): LED(\n",
       "              (led_unit): Sequential(\n",
       "                (0): Linear(in_features=768, out_features=256, bias=False)\n",
       "                (1): Linear(in_features=256, out_features=768, bias=True)\n",
       "              )\n",
       "            )\n",
       "            (LayerNorm): LayerNorm((768,), eps=1e-12, elementwise_affine=True)\n",
       "            (dropout): Dropout(p=0.1, inplace=False)\n",
       "          )\n",
       "        )\n",
       "        (intermediate): BertIntermediate(\n",
       "          (dense): LED(\n",
       "            (led_unit): Sequential(\n",
       "              (0): Linear(in_features=768, out_features=256, bias=False)\n",
       "              (1): Linear(in_features=256, out_features=3072, bias=True)\n",
       "            )\n",
       "          )\n",
       "        )\n",
       "        (output): BertOutput(\n",
       "          (dense): LED(\n",
       "            (led_unit): Sequential(\n",
       "              (0): Linear(in_features=3072, out_features=256, bias=False)\n",
       "              (1): Linear(in_features=256, out_features=768, bias=True)\n",
       "            )\n",
       "          )\n",
       "          (LayerNorm): LayerNorm((768,), eps=1e-12, elementwise_affine=True)\n",
       "          (dropout): Dropout(p=0.1, inplace=False)\n",
       "        )\n",
       "      )\n",
       "      (6): BertLayer(\n",
       "        (attention): BertAttention(\n",
       "          (self): BertSelfAttention(\n",
       "            (query): LED(\n",
       "              (led_unit): Sequential(\n",
       "                (0): Linear(in_features=768, out_features=256, bias=False)\n",
       "                (1): Linear(in_features=256, out_features=768, bias=True)\n",
       "              )\n",
       "            )\n",
       "            (key): LED(\n",
       "              (led_unit): Sequential(\n",
       "                (0): Linear(in_features=768, out_features=256, bias=False)\n",
       "                (1): Linear(in_features=256, out_features=768, bias=True)\n",
       "              )\n",
       "            )\n",
       "            (value): LED(\n",
       "              (led_unit): Sequential(\n",
       "                (0): Linear(in_features=768, out_features=256, bias=False)\n",
       "                (1): Linear(in_features=256, out_features=768, bias=True)\n",
       "              )\n",
       "            )\n",
       "            (dropout): Dropout(p=0.1, inplace=False)\n",
       "          )\n",
       "          (output): BertSelfOutput(\n",
       "            (dense): LED(\n",
       "              (led_unit): Sequential(\n",
       "                (0): Linear(in_features=768, out_features=256, bias=False)\n",
       "                (1): Linear(in_features=256, out_features=768, bias=True)\n",
       "              )\n",
       "            )\n",
       "            (LayerNorm): LayerNorm((768,), eps=1e-12, elementwise_affine=True)\n",
       "            (dropout): Dropout(p=0.1, inplace=False)\n",
       "          )\n",
       "        )\n",
       "        (intermediate): BertIntermediate(\n",
       "          (dense): LED(\n",
       "            (led_unit): Sequential(\n",
       "              (0): Linear(in_features=768, out_features=256, bias=False)\n",
       "              (1): Linear(in_features=256, out_features=3072, bias=True)\n",
       "            )\n",
       "          )\n",
       "        )\n",
       "        (output): BertOutput(\n",
       "          (dense): LED(\n",
       "            (led_unit): Sequential(\n",
       "              (0): Linear(in_features=3072, out_features=256, bias=False)\n",
       "              (1): Linear(in_features=256, out_features=768, bias=True)\n",
       "            )\n",
       "          )\n",
       "          (LayerNorm): LayerNorm((768,), eps=1e-12, elementwise_affine=True)\n",
       "          (dropout): Dropout(p=0.1, inplace=False)\n",
       "        )\n",
       "      )\n",
       "      (7): BertLayer(\n",
       "        (attention): BertAttention(\n",
       "          (self): BertSelfAttention(\n",
       "            (query): LED(\n",
       "              (led_unit): Sequential(\n",
       "                (0): Linear(in_features=768, out_features=256, bias=False)\n",
       "                (1): Linear(in_features=256, out_features=768, bias=True)\n",
       "              )\n",
       "            )\n",
       "            (key): LED(\n",
       "              (led_unit): Sequential(\n",
       "                (0): Linear(in_features=768, out_features=256, bias=False)\n",
       "                (1): Linear(in_features=256, out_features=768, bias=True)\n",
       "              )\n",
       "            )\n",
       "            (value): LED(\n",
       "              (led_unit): Sequential(\n",
       "                (0): Linear(in_features=768, out_features=256, bias=False)\n",
       "                (1): Linear(in_features=256, out_features=768, bias=True)\n",
       "              )\n",
       "            )\n",
       "            (dropout): Dropout(p=0.1, inplace=False)\n",
       "          )\n",
       "          (output): BertSelfOutput(\n",
       "            (dense): LED(\n",
       "              (led_unit): Sequential(\n",
       "                (0): Linear(in_features=768, out_features=256, bias=False)\n",
       "                (1): Linear(in_features=256, out_features=768, bias=True)\n",
       "              )\n",
       "            )\n",
       "            (LayerNorm): LayerNorm((768,), eps=1e-12, elementwise_affine=True)\n",
       "            (dropout): Dropout(p=0.1, inplace=False)\n",
       "          )\n",
       "        )\n",
       "        (intermediate): BertIntermediate(\n",
       "          (dense): LED(\n",
       "            (led_unit): Sequential(\n",
       "              (0): Linear(in_features=768, out_features=256, bias=False)\n",
       "              (1): Linear(in_features=256, out_features=3072, bias=True)\n",
       "            )\n",
       "          )\n",
       "        )\n",
       "        (output): BertOutput(\n",
       "          (dense): LED(\n",
       "            (led_unit): Sequential(\n",
       "              (0): Linear(in_features=3072, out_features=256, bias=False)\n",
       "              (1): Linear(in_features=256, out_features=768, bias=True)\n",
       "            )\n",
       "          )\n",
       "          (LayerNorm): LayerNorm((768,), eps=1e-12, elementwise_affine=True)\n",
       "          (dropout): Dropout(p=0.1, inplace=False)\n",
       "        )\n",
       "      )\n",
       "      (8): BertLayer(\n",
       "        (attention): BertAttention(\n",
       "          (self): BertSelfAttention(\n",
       "            (query): LED(\n",
       "              (led_unit): Sequential(\n",
       "                (0): Linear(in_features=768, out_features=256, bias=False)\n",
       "                (1): Linear(in_features=256, out_features=768, bias=True)\n",
       "              )\n",
       "            )\n",
       "            (key): LED(\n",
       "              (led_unit): Sequential(\n",
       "                (0): Linear(in_features=768, out_features=256, bias=False)\n",
       "                (1): Linear(in_features=256, out_features=768, bias=True)\n",
       "              )\n",
       "            )\n",
       "            (value): LED(\n",
       "              (led_unit): Sequential(\n",
       "                (0): Linear(in_features=768, out_features=256, bias=False)\n",
       "                (1): Linear(in_features=256, out_features=768, bias=True)\n",
       "              )\n",
       "            )\n",
       "            (dropout): Dropout(p=0.1, inplace=False)\n",
       "          )\n",
       "          (output): BertSelfOutput(\n",
       "            (dense): LED(\n",
       "              (led_unit): Sequential(\n",
       "                (0): Linear(in_features=768, out_features=256, bias=False)\n",
       "                (1): Linear(in_features=256, out_features=768, bias=True)\n",
       "              )\n",
       "            )\n",
       "            (LayerNorm): LayerNorm((768,), eps=1e-12, elementwise_affine=True)\n",
       "            (dropout): Dropout(p=0.1, inplace=False)\n",
       "          )\n",
       "        )\n",
       "        (intermediate): BertIntermediate(\n",
       "          (dense): LED(\n",
       "            (led_unit): Sequential(\n",
       "              (0): Linear(in_features=768, out_features=256, bias=False)\n",
       "              (1): Linear(in_features=256, out_features=3072, bias=True)\n",
       "            )\n",
       "          )\n",
       "        )\n",
       "        (output): BertOutput(\n",
       "          (dense): LED(\n",
       "            (led_unit): Sequential(\n",
       "              (0): Linear(in_features=3072, out_features=256, bias=False)\n",
       "              (1): Linear(in_features=256, out_features=768, bias=True)\n",
       "            )\n",
       "          )\n",
       "          (LayerNorm): LayerNorm((768,), eps=1e-12, elementwise_affine=True)\n",
       "          (dropout): Dropout(p=0.1, inplace=False)\n",
       "        )\n",
       "      )\n",
       "      (9): BertLayer(\n",
       "        (attention): BertAttention(\n",
       "          (self): BertSelfAttention(\n",
       "            (query): LED(\n",
       "              (led_unit): Sequential(\n",
       "                (0): Linear(in_features=768, out_features=256, bias=False)\n",
       "                (1): Linear(in_features=256, out_features=768, bias=True)\n",
       "              )\n",
       "            )\n",
       "            (key): LED(\n",
       "              (led_unit): Sequential(\n",
       "                (0): Linear(in_features=768, out_features=256, bias=False)\n",
       "                (1): Linear(in_features=256, out_features=768, bias=True)\n",
       "              )\n",
       "            )\n",
       "            (value): LED(\n",
       "              (led_unit): Sequential(\n",
       "                (0): Linear(in_features=768, out_features=256, bias=False)\n",
       "                (1): Linear(in_features=256, out_features=768, bias=True)\n",
       "              )\n",
       "            )\n",
       "            (dropout): Dropout(p=0.1, inplace=False)\n",
       "          )\n",
       "          (output): BertSelfOutput(\n",
       "            (dense): LED(\n",
       "              (led_unit): Sequential(\n",
       "                (0): Linear(in_features=768, out_features=256, bias=False)\n",
       "                (1): Linear(in_features=256, out_features=768, bias=True)\n",
       "              )\n",
       "            )\n",
       "            (LayerNorm): LayerNorm((768,), eps=1e-12, elementwise_affine=True)\n",
       "            (dropout): Dropout(p=0.1, inplace=False)\n",
       "          )\n",
       "        )\n",
       "        (intermediate): BertIntermediate(\n",
       "          (dense): LED(\n",
       "            (led_unit): Sequential(\n",
       "              (0): Linear(in_features=768, out_features=256, bias=False)\n",
       "              (1): Linear(in_features=256, out_features=3072, bias=True)\n",
       "            )\n",
       "          )\n",
       "        )\n",
       "        (output): BertOutput(\n",
       "          (dense): LED(\n",
       "            (led_unit): Sequential(\n",
       "              (0): Linear(in_features=3072, out_features=256, bias=False)\n",
       "              (1): Linear(in_features=256, out_features=768, bias=True)\n",
       "            )\n",
       "          )\n",
       "          (LayerNorm): LayerNorm((768,), eps=1e-12, elementwise_affine=True)\n",
       "          (dropout): Dropout(p=0.1, inplace=False)\n",
       "        )\n",
       "      )\n",
       "      (10): BertLayer(\n",
       "        (attention): BertAttention(\n",
       "          (self): BertSelfAttention(\n",
       "            (query): LED(\n",
       "              (led_unit): Sequential(\n",
       "                (0): Linear(in_features=768, out_features=256, bias=False)\n",
       "                (1): Linear(in_features=256, out_features=768, bias=True)\n",
       "              )\n",
       "            )\n",
       "            (key): LED(\n",
       "              (led_unit): Sequential(\n",
       "                (0): Linear(in_features=768, out_features=256, bias=False)\n",
       "                (1): Linear(in_features=256, out_features=768, bias=True)\n",
       "              )\n",
       "            )\n",
       "            (value): LED(\n",
       "              (led_unit): Sequential(\n",
       "                (0): Linear(in_features=768, out_features=256, bias=False)\n",
       "                (1): Linear(in_features=256, out_features=768, bias=True)\n",
       "              )\n",
       "            )\n",
       "            (dropout): Dropout(p=0.1, inplace=False)\n",
       "          )\n",
       "          (output): BertSelfOutput(\n",
       "            (dense): LED(\n",
       "              (led_unit): Sequential(\n",
       "                (0): Linear(in_features=768, out_features=256, bias=False)\n",
       "                (1): Linear(in_features=256, out_features=768, bias=True)\n",
       "              )\n",
       "            )\n",
       "            (LayerNorm): LayerNorm((768,), eps=1e-12, elementwise_affine=True)\n",
       "            (dropout): Dropout(p=0.1, inplace=False)\n",
       "          )\n",
       "        )\n",
       "        (intermediate): BertIntermediate(\n",
       "          (dense): LED(\n",
       "            (led_unit): Sequential(\n",
       "              (0): Linear(in_features=768, out_features=256, bias=False)\n",
       "              (1): Linear(in_features=256, out_features=3072, bias=True)\n",
       "            )\n",
       "          )\n",
       "        )\n",
       "        (output): BertOutput(\n",
       "          (dense): LED(\n",
       "            (led_unit): Sequential(\n",
       "              (0): Linear(in_features=3072, out_features=256, bias=False)\n",
       "              (1): Linear(in_features=256, out_features=768, bias=True)\n",
       "            )\n",
       "          )\n",
       "          (LayerNorm): LayerNorm((768,), eps=1e-12, elementwise_affine=True)\n",
       "          (dropout): Dropout(p=0.1, inplace=False)\n",
       "        )\n",
       "      )\n",
       "      (11): BertLayer(\n",
       "        (attention): BertAttention(\n",
       "          (self): BertSelfAttention(\n",
       "            (query): LED(\n",
       "              (led_unit): Sequential(\n",
       "                (0): Linear(in_features=768, out_features=256, bias=False)\n",
       "                (1): Linear(in_features=256, out_features=768, bias=True)\n",
       "              )\n",
       "            )\n",
       "            (key): LED(\n",
       "              (led_unit): Sequential(\n",
       "                (0): Linear(in_features=768, out_features=256, bias=False)\n",
       "                (1): Linear(in_features=256, out_features=768, bias=True)\n",
       "              )\n",
       "            )\n",
       "            (value): LED(\n",
       "              (led_unit): Sequential(\n",
       "                (0): Linear(in_features=768, out_features=256, bias=False)\n",
       "                (1): Linear(in_features=256, out_features=768, bias=True)\n",
       "              )\n",
       "            )\n",
       "            (dropout): Dropout(p=0.1, inplace=False)\n",
       "          )\n",
       "          (output): BertSelfOutput(\n",
       "            (dense): LED(\n",
       "              (led_unit): Sequential(\n",
       "                (0): Linear(in_features=768, out_features=256, bias=False)\n",
       "                (1): Linear(in_features=256, out_features=768, bias=True)\n",
       "              )\n",
       "            )\n",
       "            (LayerNorm): LayerNorm((768,), eps=1e-12, elementwise_affine=True)\n",
       "            (dropout): Dropout(p=0.1, inplace=False)\n",
       "          )\n",
       "        )\n",
       "        (intermediate): BertIntermediate(\n",
       "          (dense): LED(\n",
       "            (led_unit): Sequential(\n",
       "              (0): Linear(in_features=768, out_features=256, bias=False)\n",
       "              (1): Linear(in_features=256, out_features=3072, bias=True)\n",
       "            )\n",
       "          )\n",
       "        )\n",
       "        (output): BertOutput(\n",
       "          (dense): LED(\n",
       "            (led_unit): Sequential(\n",
       "              (0): Linear(in_features=3072, out_features=256, bias=False)\n",
       "              (1): Linear(in_features=256, out_features=768, bias=True)\n",
       "            )\n",
       "          )\n",
       "          (LayerNorm): LayerNorm((768,), eps=1e-12, elementwise_affine=True)\n",
       "          (dropout): Dropout(p=0.1, inplace=False)\n",
       "        )\n",
       "      )\n",
       "    )\n",
       "  )\n",
       "  (pooler): BertPooler(\n",
       "    (dense): LED(\n",
       "      (led_unit): Sequential(\n",
       "        (0): Linear(in_features=768, out_features=256, bias=False)\n",
       "        (1): Linear(in_features=256, out_features=768, bias=True)\n",
       "      )\n",
       "    )\n",
       "    (activation): Tanh()\n",
       "  )\n",
       ")"
      ]
     },
     "execution_count": 104,
     "metadata": {},
     "output_type": "execute_result"
    }
   ],
   "source": [
    "fact_model"
   ]
  },
  {
   "cell_type": "code",
   "execution_count": 105,
   "metadata": {},
   "outputs": [],
   "source": [
    "fact_fact_model = auto_fact(fact_model, rank=256, deepcopy=True, solver='random')"
   ]
  },
  {
   "cell_type": "code",
   "execution_count": 106,
   "metadata": {
    "scrolled": true
   },
   "outputs": [
    {
     "data": {
      "text/plain": [
       "BertModel(\n",
       "  (embeddings): BertEmbeddings(\n",
       "    (word_embeddings): Embedding(30522, 768, padding_idx=0)\n",
       "    (position_embeddings): Embedding(512, 768)\n",
       "    (token_type_embeddings): Embedding(2, 768)\n",
       "    (LayerNorm): LayerNorm((768,), eps=1e-12, elementwise_affine=True)\n",
       "    (dropout): Dropout(p=0.1, inplace=False)\n",
       "  )\n",
       "  (encoder): BertEncoder(\n",
       "    (layer): ModuleList(\n",
       "      (0): BertLayer(\n",
       "        (attention): BertAttention(\n",
       "          (self): BertSelfAttention(\n",
       "            (query): Linear(in_features=768, out_features=768, bias=True)\n",
       "            (key): Linear(in_features=768, out_features=768, bias=True)\n",
       "            (value): Linear(in_features=768, out_features=768, bias=True)\n",
       "            (dropout): Dropout(p=0.1, inplace=False)\n",
       "          )\n",
       "          (output): BertSelfOutput(\n",
       "            (dense): Linear(in_features=768, out_features=768, bias=True)\n",
       "            (LayerNorm): LayerNorm((768,), eps=1e-12, elementwise_affine=True)\n",
       "            (dropout): Dropout(p=0.1, inplace=False)\n",
       "          )\n",
       "        )\n",
       "        (intermediate): BertIntermediate(\n",
       "          (dense): Linear(in_features=768, out_features=3072, bias=True)\n",
       "        )\n",
       "        (output): BertOutput(\n",
       "          (dense): Linear(in_features=3072, out_features=768, bias=True)\n",
       "          (LayerNorm): LayerNorm((768,), eps=1e-12, elementwise_affine=True)\n",
       "          (dropout): Dropout(p=0.1, inplace=False)\n",
       "        )\n",
       "      )\n",
       "      (1): BertLayer(\n",
       "        (attention): BertAttention(\n",
       "          (self): BertSelfAttention(\n",
       "            (query): Linear(in_features=768, out_features=768, bias=True)\n",
       "            (key): Linear(in_features=768, out_features=768, bias=True)\n",
       "            (value): Linear(in_features=768, out_features=768, bias=True)\n",
       "            (dropout): Dropout(p=0.1, inplace=False)\n",
       "          )\n",
       "          (output): BertSelfOutput(\n",
       "            (dense): Linear(in_features=768, out_features=768, bias=True)\n",
       "            (LayerNorm): LayerNorm((768,), eps=1e-12, elementwise_affine=True)\n",
       "            (dropout): Dropout(p=0.1, inplace=False)\n",
       "          )\n",
       "        )\n",
       "        (intermediate): BertIntermediate(\n",
       "          (dense): Linear(in_features=768, out_features=3072, bias=True)\n",
       "        )\n",
       "        (output): BertOutput(\n",
       "          (dense): Linear(in_features=3072, out_features=768, bias=True)\n",
       "          (LayerNorm): LayerNorm((768,), eps=1e-12, elementwise_affine=True)\n",
       "          (dropout): Dropout(p=0.1, inplace=False)\n",
       "        )\n",
       "      )\n",
       "      (2): BertLayer(\n",
       "        (attention): BertAttention(\n",
       "          (self): BertSelfAttention(\n",
       "            (query): Linear(in_features=768, out_features=768, bias=True)\n",
       "            (key): Linear(in_features=768, out_features=768, bias=True)\n",
       "            (value): Linear(in_features=768, out_features=768, bias=True)\n",
       "            (dropout): Dropout(p=0.1, inplace=False)\n",
       "          )\n",
       "          (output): BertSelfOutput(\n",
       "            (dense): Linear(in_features=768, out_features=768, bias=True)\n",
       "            (LayerNorm): LayerNorm((768,), eps=1e-12, elementwise_affine=True)\n",
       "            (dropout): Dropout(p=0.1, inplace=False)\n",
       "          )\n",
       "        )\n",
       "        (intermediate): BertIntermediate(\n",
       "          (dense): Linear(in_features=768, out_features=3072, bias=True)\n",
       "        )\n",
       "        (output): BertOutput(\n",
       "          (dense): Linear(in_features=3072, out_features=768, bias=True)\n",
       "          (LayerNorm): LayerNorm((768,), eps=1e-12, elementwise_affine=True)\n",
       "          (dropout): Dropout(p=0.1, inplace=False)\n",
       "        )\n",
       "      )\n",
       "      (3): BertLayer(\n",
       "        (attention): BertAttention(\n",
       "          (self): BertSelfAttention(\n",
       "            (query): Linear(in_features=768, out_features=768, bias=True)\n",
       "            (key): Linear(in_features=768, out_features=768, bias=True)\n",
       "            (value): Linear(in_features=768, out_features=768, bias=True)\n",
       "            (dropout): Dropout(p=0.1, inplace=False)\n",
       "          )\n",
       "          (output): BertSelfOutput(\n",
       "            (dense): Linear(in_features=768, out_features=768, bias=True)\n",
       "            (LayerNorm): LayerNorm((768,), eps=1e-12, elementwise_affine=True)\n",
       "            (dropout): Dropout(p=0.1, inplace=False)\n",
       "          )\n",
       "        )\n",
       "        (intermediate): BertIntermediate(\n",
       "          (dense): Linear(in_features=768, out_features=3072, bias=True)\n",
       "        )\n",
       "        (output): BertOutput(\n",
       "          (dense): Linear(in_features=3072, out_features=768, bias=True)\n",
       "          (LayerNorm): LayerNorm((768,), eps=1e-12, elementwise_affine=True)\n",
       "          (dropout): Dropout(p=0.1, inplace=False)\n",
       "        )\n",
       "      )\n",
       "      (4): BertLayer(\n",
       "        (attention): BertAttention(\n",
       "          (self): BertSelfAttention(\n",
       "            (query): Linear(in_features=768, out_features=768, bias=True)\n",
       "            (key): Linear(in_features=768, out_features=768, bias=True)\n",
       "            (value): Linear(in_features=768, out_features=768, bias=True)\n",
       "            (dropout): Dropout(p=0.1, inplace=False)\n",
       "          )\n",
       "          (output): BertSelfOutput(\n",
       "            (dense): Linear(in_features=768, out_features=768, bias=True)\n",
       "            (LayerNorm): LayerNorm((768,), eps=1e-12, elementwise_affine=True)\n",
       "            (dropout): Dropout(p=0.1, inplace=False)\n",
       "          )\n",
       "        )\n",
       "        (intermediate): BertIntermediate(\n",
       "          (dense): Linear(in_features=768, out_features=3072, bias=True)\n",
       "        )\n",
       "        (output): BertOutput(\n",
       "          (dense): Linear(in_features=3072, out_features=768, bias=True)\n",
       "          (LayerNorm): LayerNorm((768,), eps=1e-12, elementwise_affine=True)\n",
       "          (dropout): Dropout(p=0.1, inplace=False)\n",
       "        )\n",
       "      )\n",
       "      (5): BertLayer(\n",
       "        (attention): BertAttention(\n",
       "          (self): BertSelfAttention(\n",
       "            (query): Linear(in_features=768, out_features=768, bias=True)\n",
       "            (key): Linear(in_features=768, out_features=768, bias=True)\n",
       "            (value): Linear(in_features=768, out_features=768, bias=True)\n",
       "            (dropout): Dropout(p=0.1, inplace=False)\n",
       "          )\n",
       "          (output): BertSelfOutput(\n",
       "            (dense): Linear(in_features=768, out_features=768, bias=True)\n",
       "            (LayerNorm): LayerNorm((768,), eps=1e-12, elementwise_affine=True)\n",
       "            (dropout): Dropout(p=0.1, inplace=False)\n",
       "          )\n",
       "        )\n",
       "        (intermediate): BertIntermediate(\n",
       "          (dense): Linear(in_features=768, out_features=3072, bias=True)\n",
       "        )\n",
       "        (output): BertOutput(\n",
       "          (dense): Linear(in_features=3072, out_features=768, bias=True)\n",
       "          (LayerNorm): LayerNorm((768,), eps=1e-12, elementwise_affine=True)\n",
       "          (dropout): Dropout(p=0.1, inplace=False)\n",
       "        )\n",
       "      )\n",
       "      (6): BertLayer(\n",
       "        (attention): BertAttention(\n",
       "          (self): BertSelfAttention(\n",
       "            (query): LED(\n",
       "              (led_unit): Sequential(\n",
       "                (0): Linear(in_features=768, out_features=192, bias=False)\n",
       "                (1): Linear(in_features=192, out_features=768, bias=True)\n",
       "              )\n",
       "            )\n",
       "            (key): LED(\n",
       "              (led_unit): Sequential(\n",
       "                (0): Linear(in_features=768, out_features=192, bias=False)\n",
       "                (1): Linear(in_features=192, out_features=768, bias=True)\n",
       "              )\n",
       "            )\n",
       "            (value): LED(\n",
       "              (led_unit): Sequential(\n",
       "                (0): Linear(in_features=768, out_features=192, bias=False)\n",
       "                (1): Linear(in_features=192, out_features=768, bias=True)\n",
       "              )\n",
       "            )\n",
       "            (dropout): Dropout(p=0.1, inplace=False)\n",
       "          )\n",
       "          (output): BertSelfOutput(\n",
       "            (dense): LED(\n",
       "              (led_unit): Sequential(\n",
       "                (0): Linear(in_features=768, out_features=192, bias=False)\n",
       "                (1): Linear(in_features=192, out_features=768, bias=True)\n",
       "              )\n",
       "            )\n",
       "            (LayerNorm): LayerNorm((768,), eps=1e-12, elementwise_affine=True)\n",
       "            (dropout): Dropout(p=0.1, inplace=False)\n",
       "          )\n",
       "        )\n",
       "        (intermediate): BertIntermediate(\n",
       "          (dense): LED(\n",
       "            (led_unit): Sequential(\n",
       "              (0): Linear(in_features=768, out_features=307, bias=False)\n",
       "              (1): Linear(in_features=307, out_features=3072, bias=True)\n",
       "            )\n",
       "          )\n",
       "        )\n",
       "        (output): BertOutput(\n",
       "          (dense): LED(\n",
       "            (led_unit): Sequential(\n",
       "              (0): Linear(in_features=3072, out_features=307, bias=False)\n",
       "              (1): Linear(in_features=307, out_features=768, bias=True)\n",
       "            )\n",
       "          )\n",
       "          (LayerNorm): LayerNorm((768,), eps=1e-12, elementwise_affine=True)\n",
       "          (dropout): Dropout(p=0.1, inplace=False)\n",
       "        )\n",
       "      )\n",
       "      (7): BertLayer(\n",
       "        (attention): BertAttention(\n",
       "          (self): BertSelfAttention(\n",
       "            (query): Linear(in_features=768, out_features=768, bias=True)\n",
       "            (key): Linear(in_features=768, out_features=768, bias=True)\n",
       "            (value): Linear(in_features=768, out_features=768, bias=True)\n",
       "            (dropout): Dropout(p=0.1, inplace=False)\n",
       "          )\n",
       "          (output): BertSelfOutput(\n",
       "            (dense): Linear(in_features=768, out_features=768, bias=True)\n",
       "            (LayerNorm): LayerNorm((768,), eps=1e-12, elementwise_affine=True)\n",
       "            (dropout): Dropout(p=0.1, inplace=False)\n",
       "          )\n",
       "        )\n",
       "        (intermediate): BertIntermediate(\n",
       "          (dense): Linear(in_features=768, out_features=3072, bias=True)\n",
       "        )\n",
       "        (output): BertOutput(\n",
       "          (dense): Linear(in_features=3072, out_features=768, bias=True)\n",
       "          (LayerNorm): LayerNorm((768,), eps=1e-12, elementwise_affine=True)\n",
       "          (dropout): Dropout(p=0.1, inplace=False)\n",
       "        )\n",
       "      )\n",
       "      (8): BertLayer(\n",
       "        (attention): BertAttention(\n",
       "          (self): BertSelfAttention(\n",
       "            (query): LED(\n",
       "              (led_unit): Sequential(\n",
       "                (0): Linear(in_features=768, out_features=192, bias=False)\n",
       "                (1): Linear(in_features=192, out_features=768, bias=True)\n",
       "              )\n",
       "            )\n",
       "            (key): LED(\n",
       "              (led_unit): Sequential(\n",
       "                (0): Linear(in_features=768, out_features=192, bias=False)\n",
       "                (1): Linear(in_features=192, out_features=768, bias=True)\n",
       "              )\n",
       "            )\n",
       "            (value): LED(\n",
       "              (led_unit): Sequential(\n",
       "                (0): Linear(in_features=768, out_features=192, bias=False)\n",
       "                (1): Linear(in_features=192, out_features=768, bias=True)\n",
       "              )\n",
       "            )\n",
       "            (dropout): Dropout(p=0.1, inplace=False)\n",
       "          )\n",
       "          (output): BertSelfOutput(\n",
       "            (dense): LED(\n",
       "              (led_unit): Sequential(\n",
       "                (0): Linear(in_features=768, out_features=192, bias=False)\n",
       "                (1): Linear(in_features=192, out_features=768, bias=True)\n",
       "              )\n",
       "            )\n",
       "            (LayerNorm): LayerNorm((768,), eps=1e-12, elementwise_affine=True)\n",
       "            (dropout): Dropout(p=0.1, inplace=False)\n",
       "          )\n",
       "        )\n",
       "        (intermediate): BertIntermediate(\n",
       "          (dense): LED(\n",
       "            (led_unit): Sequential(\n",
       "              (0): Linear(in_features=768, out_features=307, bias=False)\n",
       "              (1): Linear(in_features=307, out_features=3072, bias=True)\n",
       "            )\n",
       "          )\n",
       "        )\n",
       "        (output): BertOutput(\n",
       "          (dense): LED(\n",
       "            (led_unit): Sequential(\n",
       "              (0): Linear(in_features=3072, out_features=307, bias=False)\n",
       "              (1): Linear(in_features=307, out_features=768, bias=True)\n",
       "            )\n",
       "          )\n",
       "          (LayerNorm): LayerNorm((768,), eps=1e-12, elementwise_affine=True)\n",
       "          (dropout): Dropout(p=0.1, inplace=False)\n",
       "        )\n",
       "      )\n",
       "      (9): BertLayer(\n",
       "        (attention): BertAttention(\n",
       "          (self): BertSelfAttention(\n",
       "            (query): LED(\n",
       "              (led_unit): Sequential(\n",
       "                (0): Linear(in_features=768, out_features=192, bias=False)\n",
       "                (1): Linear(in_features=192, out_features=768, bias=True)\n",
       "              )\n",
       "            )\n",
       "            (key): LED(\n",
       "              (led_unit): Sequential(\n",
       "                (0): Linear(in_features=768, out_features=192, bias=False)\n",
       "                (1): Linear(in_features=192, out_features=768, bias=True)\n",
       "              )\n",
       "            )\n",
       "            (value): LED(\n",
       "              (led_unit): Sequential(\n",
       "                (0): Linear(in_features=768, out_features=192, bias=False)\n",
       "                (1): Linear(in_features=192, out_features=768, bias=True)\n",
       "              )\n",
       "            )\n",
       "            (dropout): Dropout(p=0.1, inplace=False)\n",
       "          )\n",
       "          (output): BertSelfOutput(\n",
       "            (dense): LED(\n",
       "              (led_unit): Sequential(\n",
       "                (0): Linear(in_features=768, out_features=192, bias=False)\n",
       "                (1): Linear(in_features=192, out_features=768, bias=True)\n",
       "              )\n",
       "            )\n",
       "            (LayerNorm): LayerNorm((768,), eps=1e-12, elementwise_affine=True)\n",
       "            (dropout): Dropout(p=0.1, inplace=False)\n",
       "          )\n",
       "        )\n",
       "        (intermediate): BertIntermediate(\n",
       "          (dense): LED(\n",
       "            (led_unit): Sequential(\n",
       "              (0): Linear(in_features=768, out_features=307, bias=False)\n",
       "              (1): Linear(in_features=307, out_features=3072, bias=True)\n",
       "            )\n",
       "          )\n",
       "        )\n",
       "        (output): BertOutput(\n",
       "          (dense): LED(\n",
       "            (led_unit): Sequential(\n",
       "              (0): Linear(in_features=3072, out_features=307, bias=False)\n",
       "              (1): Linear(in_features=307, out_features=768, bias=True)\n",
       "            )\n",
       "          )\n",
       "          (LayerNorm): LayerNorm((768,), eps=1e-12, elementwise_affine=True)\n",
       "          (dropout): Dropout(p=0.1, inplace=False)\n",
       "        )\n",
       "      )\n",
       "      (10): BertLayer(\n",
       "        (attention): BertAttention(\n",
       "          (self): BertSelfAttention(\n",
       "            (query): Linear(in_features=768, out_features=768, bias=True)\n",
       "            (key): Linear(in_features=768, out_features=768, bias=True)\n",
       "            (value): Linear(in_features=768, out_features=768, bias=True)\n",
       "            (dropout): Dropout(p=0.1, inplace=False)\n",
       "          )\n",
       "          (output): BertSelfOutput(\n",
       "            (dense): Linear(in_features=768, out_features=768, bias=True)\n",
       "            (LayerNorm): LayerNorm((768,), eps=1e-12, elementwise_affine=True)\n",
       "            (dropout): Dropout(p=0.1, inplace=False)\n",
       "          )\n",
       "        )\n",
       "        (intermediate): BertIntermediate(\n",
       "          (dense): Linear(in_features=768, out_features=3072, bias=True)\n",
       "        )\n",
       "        (output): BertOutput(\n",
       "          (dense): Linear(in_features=3072, out_features=768, bias=True)\n",
       "          (LayerNorm): LayerNorm((768,), eps=1e-12, elementwise_affine=True)\n",
       "          (dropout): Dropout(p=0.1, inplace=False)\n",
       "        )\n",
       "      )\n",
       "      (11): BertLayer(\n",
       "        (attention): BertAttention(\n",
       "          (self): BertSelfAttention(\n",
       "            (query): LED(\n",
       "              (led_unit): Sequential(\n",
       "                (0): Linear(in_features=768, out_features=192, bias=False)\n",
       "                (1): Linear(in_features=192, out_features=768, bias=True)\n",
       "              )\n",
       "            )\n",
       "            (key): LED(\n",
       "              (led_unit): Sequential(\n",
       "                (0): Linear(in_features=768, out_features=192, bias=False)\n",
       "                (1): Linear(in_features=192, out_features=768, bias=True)\n",
       "              )\n",
       "            )\n",
       "            (value): LED(\n",
       "              (led_unit): Sequential(\n",
       "                (0): Linear(in_features=768, out_features=192, bias=False)\n",
       "                (1): Linear(in_features=192, out_features=768, bias=True)\n",
       "              )\n",
       "            )\n",
       "            (dropout): Dropout(p=0.1, inplace=False)\n",
       "          )\n",
       "          (output): BertSelfOutput(\n",
       "            (dense): LED(\n",
       "              (led_unit): Sequential(\n",
       "                (0): Linear(in_features=768, out_features=192, bias=False)\n",
       "                (1): Linear(in_features=192, out_features=768, bias=True)\n",
       "              )\n",
       "            )\n",
       "            (LayerNorm): LayerNorm((768,), eps=1e-12, elementwise_affine=True)\n",
       "            (dropout): Dropout(p=0.1, inplace=False)\n",
       "          )\n",
       "        )\n",
       "        (intermediate): BertIntermediate(\n",
       "          (dense): LED(\n",
       "            (led_unit): Sequential(\n",
       "              (0): Linear(in_features=768, out_features=307, bias=False)\n",
       "              (1): Linear(in_features=307, out_features=3072, bias=True)\n",
       "            )\n",
       "          )\n",
       "        )\n",
       "        (output): BertOutput(\n",
       "          (dense): LED(\n",
       "            (led_unit): Sequential(\n",
       "              (0): Linear(in_features=3072, out_features=307, bias=False)\n",
       "              (1): Linear(in_features=307, out_features=768, bias=True)\n",
       "            )\n",
       "          )\n",
       "          (LayerNorm): LayerNorm((768,), eps=1e-12, elementwise_affine=True)\n",
       "          (dropout): Dropout(p=0.1, inplace=False)\n",
       "        )\n",
       "      )\n",
       "    )\n",
       "  )\n",
       "  (pooler): BertPooler(\n",
       "    (dense): LED(\n",
       "      (led_unit): Sequential(\n",
       "        (0): Linear(in_features=768, out_features=192, bias=False)\n",
       "        (1): Linear(in_features=192, out_features=768, bias=True)\n",
       "      )\n",
       "    )\n",
       "    (activation): Tanh()\n",
       "  )\n",
       ")"
      ]
     },
     "execution_count": 106,
     "metadata": {},
     "output_type": "execute_result"
    }
   ],
   "source": [
    "factorizable_module_list = [\n",
    "    model.encoder.layer[6],\n",
    "    model.encoder.layer[8],\n",
    "    model.encoder.layer[9],\n",
    "    model.encoder.layer[11],\n",
    "    model.pooler]\n",
    "\n",
    "fact_model2 = auto_fact(model, rank=0.5, deepcopy=True, solver='random', num_iter=100, factorizable_module_list=factorizable_module_list)\n",
    "\n",
    "fact_model2"
   ]
  },
  {
   "cell_type": "code",
   "execution_count": 16,
   "metadata": {
    "scrolled": true
   },
   "outputs": [
    {
     "name": "stdout",
     "output_type": "stream",
     "text": [
      "CPU times: user 2min 6s, sys: 1.07 s, total: 2min 7s\n",
      "Wall time: 23.2 s\n"
     ]
    },
    {
     "data": {
      "text/plain": [
       "69570816"
      ]
     },
     "execution_count": 16,
     "metadata": {},
     "output_type": "execute_result"
    }
   ],
   "source": [
    "%%time\n",
    "fact_model = auto_fact(model, rank=256, deepcopy=True, solver='svd', eigen_threshold=0.6)\n",
    "count_param(fact_model)"
   ]
  },
  {
   "cell_type": "code",
   "execution_count": 8,
   "metadata": {
    "scrolled": true
   },
   "outputs": [
    {
     "name": "stdout",
     "output_type": "stream",
     "text": [
      "CPU times: user 1min 32s, sys: 2.13 s, total: 1min 34s\n",
      "Wall time: 11 s\n"
     ]
    },
    {
     "data": {
      "text/plain": [
       "69570816"
      ]
     },
     "execution_count": 8,
     "metadata": {},
     "output_type": "execute_result"
    }
   ],
   "source": [
    "%%time\n",
    "fact_model = auto_fact(model, rank=256, deepcopy=True, solver='snmf', eigen_threshold=0.6)\n",
    "count_param(fact_model)"
   ]
  },
  {
   "cell_type": "code",
   "execution_count": 9,
   "metadata": {
    "scrolled": true
   },
   "outputs": [
    {
     "name": "stdout",
     "output_type": "stream",
     "text": [
      "CPU times: user 53 s, sys: 380 ms, total: 53.4 s\n",
      "Wall time: 5.35 s\n"
     ]
    },
    {
     "data": {
      "text/plain": [
       "66818304"
      ]
     },
     "execution_count": 9,
     "metadata": {},
     "output_type": "execute_result"
    }
   ],
   "source": [
    "%%time\n",
    "fact_model = auto_fact(model, rank=256, deepcopy=True, solver='random', num_iter=50, eigen_threshold=0.0)\n",
    "count_param(fact_model)"
   ]
  },
  {
   "cell_type": "code",
   "execution_count": 10,
   "metadata": {
    "scrolled": true
   },
   "outputs": [
    {
     "name": "stdout",
     "output_type": "stream",
     "text": [
      "CPU times: user 6min 16s, sys: 8.02 s, total: 6min 24s\n",
      "Wall time: 40.5 s\n"
     ]
    },
    {
     "data": {
      "text/plain": [
       "66818304"
      ]
     },
     "execution_count": 10,
     "metadata": {},
     "output_type": "execute_result"
    }
   ],
   "source": [
    "%%time\n",
    "fact_model = auto_fact(model, rank=256, deepcopy=True, solver='svd', num_iter=50, eigen_threshold=0.0)\n",
    "count_param(fact_model)"
   ]
  },
  {
   "cell_type": "code",
   "execution_count": 11,
   "metadata": {
    "scrolled": true
   },
   "outputs": [
    {
     "name": "stdout",
     "output_type": "stream",
     "text": [
      "CPU times: user 3min 50s, sys: 2.94 s, total: 3min 53s\n",
      "Wall time: 28.7 s\n"
     ]
    },
    {
     "data": {
      "text/plain": [
       "66818304"
      ]
     },
     "execution_count": 11,
     "metadata": {},
     "output_type": "execute_result"
    }
   ],
   "source": [
    "%%time\n",
    "fact_model = auto_fact(model, rank=256, deepcopy=True, solver='snmf', num_iter=50, eigen_threshold=0.0)\n",
    "count_param(fact_model)"
   ]
  },
  {
   "cell_type": "markdown",
   "metadata": {},
   "source": [
    "### Apply percentage rank"
   ]
  },
  {
   "cell_type": "code",
   "execution_count": 12,
   "metadata": {
    "scrolled": true
   },
   "outputs": [
    {
     "name": "stdout",
     "output_type": "stream",
     "text": [
      "CPU times: user 672 ms, sys: 8 ms, total: 680 ms\n",
      "Wall time: 248 ms\n"
     ]
    },
    {
     "data": {
      "text/plain": [
       "75356928"
      ]
     },
     "execution_count": 12,
     "metadata": {},
     "output_type": "execute_result"
    }
   ],
   "source": [
    "%%time\n",
    "fact_model = auto_fact(model, rank=0.4, deepcopy=True, solver='random', num_iter=50)\n",
    "count_param(fact_model)"
   ]
  },
  {
   "cell_type": "code",
   "execution_count": 13,
   "metadata": {
    "scrolled": true
   },
   "outputs": [
    {
     "name": "stdout",
     "output_type": "stream",
     "text": [
      "CPU times: user 6min 43s, sys: 6.01 s, total: 6min 49s\n",
      "Wall time: 41.1 s\n"
     ]
    },
    {
     "data": {
      "text/plain": [
       "75356928"
      ]
     },
     "execution_count": 13,
     "metadata": {},
     "output_type": "execute_result"
    }
   ],
   "source": [
    "%%time\n",
    "fact_model = auto_fact(model, rank=0.4, deepcopy=True, solver='svd', num_iter=50)\n",
    "count_param(fact_model)"
   ]
  },
  {
   "cell_type": "code",
   "execution_count": 14,
   "metadata": {
    "scrolled": true
   },
   "outputs": [
    {
     "name": "stdout",
     "output_type": "stream",
     "text": [
      "CPU times: user 3min 36s, sys: 4.05 s, total: 3min 40s\n",
      "Wall time: 28.4 s\n"
     ]
    },
    {
     "data": {
      "text/plain": [
       "75356928"
      ]
     },
     "execution_count": 14,
     "metadata": {},
     "output_type": "execute_result"
    }
   ],
   "source": [
    "%%time\n",
    "fact_model = auto_fact(model, rank=0.4, deepcopy=True, solver='snmf', num_iter=50)\n",
    "count_param(fact_model)"
   ]
  },
  {
   "cell_type": "code",
   "execution_count": 15,
   "metadata": {
    "scrolled": true
   },
   "outputs": [
    {
     "name": "stdout",
     "output_type": "stream",
     "text": [
      "CPU times: user 528 ms, sys: 20 ms, total: 548 ms\n",
      "Wall time: 164 ms\n"
     ]
    },
    {
     "data": {
      "text/plain": [
       "49573632"
      ]
     },
     "execution_count": 15,
     "metadata": {},
     "output_type": "execute_result"
    }
   ],
   "source": [
    "%%time\n",
    "fact_model = auto_fact(model, rank=0.2, deepcopy=True, solver='random', num_iter=50)\n",
    "count_param(fact_model)"
   ]
  },
  {
   "cell_type": "code",
   "execution_count": 16,
   "metadata": {
    "scrolled": true
   },
   "outputs": [
    {
     "name": "stdout",
     "output_type": "stream",
     "text": [
      "CPU times: user 2min 28s, sys: 1.29 s, total: 2min 29s\n",
      "Wall time: 15 s\n"
     ]
    },
    {
     "data": {
      "text/plain": [
       "49573632"
      ]
     },
     "execution_count": 16,
     "metadata": {},
     "output_type": "execute_result"
    }
   ],
   "source": [
    "%%time\n",
    "fact_model = auto_fact(model, rank=0.2, deepcopy=True, solver='svd', num_iter=50)\n",
    "count_param(fact_model)"
   ]
  },
  {
   "cell_type": "code",
   "execution_count": 17,
   "metadata": {
    "scrolled": true
   },
   "outputs": [
    {
     "name": "stdout",
     "output_type": "stream",
     "text": [
      "CPU times: user 2min 24s, sys: 2.59 s, total: 2min 27s\n",
      "Wall time: 15.7 s\n"
     ]
    },
    {
     "data": {
      "text/plain": [
       "49573632"
      ]
     },
     "execution_count": 17,
     "metadata": {},
     "output_type": "execute_result"
    }
   ],
   "source": [
    "%%time\n",
    "fact_model = auto_fact(model, rank=0.2, deepcopy=True, solver='snmf', num_iter=50)\n",
    "count_param(fact_model)"
   ]
  },
  {
   "cell_type": "markdown",
   "metadata": {},
   "source": [
    "# Test on CPU"
   ]
  },
  {
   "cell_type": "markdown",
   "metadata": {},
   "source": [
    "### Test Inference CPU"
   ]
  },
  {
   "cell_type": "code",
   "execution_count": 18,
   "metadata": {},
   "outputs": [
    {
     "name": "stdout",
     "output_type": "stream",
     "text": [
      "690 ms ± 2.76 ms per loop (mean ± std. dev. of 7 runs, 1 loop each)\n"
     ]
    }
   ],
   "source": [
    "%%timeit\n",
    "with torch.no_grad():\n",
    "    y = model(torch.zeros(32,128, dtype=torch.long))"
   ]
  },
  {
   "cell_type": "code",
   "execution_count": null,
   "metadata": {},
   "outputs": [],
   "source": [
    "690 ms ± 2.76 ms\n",
    "452 ms ± 0.88 ms"
   ]
  },
  {
   "cell_type": "code",
   "execution_count": 19,
   "metadata": {},
   "outputs": [
    {
     "name": "stdout",
     "output_type": "stream",
     "text": [
      "452 ms ± 882 µs per loop (mean ± std. dev. of 7 runs, 1 loop each)\n"
     ]
    }
   ],
   "source": [
    "%%timeit\n",
    "with torch.no_grad():\n",
    "    y = fact_model(torch.zeros(32,128, dtype=torch.long))"
   ]
  },
  {
   "cell_type": "markdown",
   "metadata": {},
   "source": [
    "### Test Forward-Backward CPU"
   ]
  },
  {
   "cell_type": "code",
   "execution_count": 20,
   "metadata": {},
   "outputs": [
    {
     "name": "stdout",
     "output_type": "stream",
     "text": [
      "613 ms ± 13.8 ms per loop (mean ± std. dev. of 7 runs, 1 loop each)\n"
     ]
    }
   ],
   "source": [
    "%%timeit\n",
    "y = model(torch.zeros(8,128, dtype=torch.long))\n",
    "y.last_hidden_state.sum().backward()"
   ]
  },
  {
   "cell_type": "code",
   "execution_count": 21,
   "metadata": {},
   "outputs": [
    {
     "name": "stdout",
     "output_type": "stream",
     "text": [
      "395 ms ± 1.52 ms per loop (mean ± std. dev. of 7 runs, 1 loop each)\n"
     ]
    }
   ],
   "source": [
    "%%timeit\n",
    "y = fact_model(torch.zeros(8,128, dtype=torch.long))\n",
    "y.last_hidden_state.sum().backward()"
   ]
  },
  {
   "cell_type": "markdown",
   "metadata": {},
   "source": [
    "# Test on GPU"
   ]
  },
  {
   "cell_type": "markdown",
   "metadata": {},
   "source": [
    "### Move models to GPU"
   ]
  },
  {
   "cell_type": "code",
   "execution_count": 22,
   "metadata": {},
   "outputs": [],
   "source": [
    "model = model.cuda()\n",
    "fact_model = fact_model.cuda()"
   ]
  },
  {
   "cell_type": "markdown",
   "metadata": {},
   "source": [
    "### Test Inference GPU"
   ]
  },
  {
   "cell_type": "code",
   "execution_count": 23,
   "metadata": {},
   "outputs": [],
   "source": [
    "x = torch.zeros(64,128, dtype=torch.long).cuda()"
   ]
  },
  {
   "cell_type": "code",
   "execution_count": 24,
   "metadata": {},
   "outputs": [
    {
     "name": "stdout",
     "output_type": "stream",
     "text": [
      "210 ms ± 555 µs per loop (mean ± std. dev. of 7 runs, 10 loops each)\n"
     ]
    }
   ],
   "source": [
    "%%timeit\n",
    "with torch.no_grad():\n",
    "    y = model(x)"
   ]
  },
  {
   "cell_type": "code",
   "execution_count": 25,
   "metadata": {},
   "outputs": [
    {
     "name": "stdout",
     "output_type": "stream",
     "text": [
      "159 ms ± 44.2 ms per loop (mean ± std. dev. of 7 runs, 1 loop each)\n"
     ]
    }
   ],
   "source": [
    "%%timeit\n",
    "with torch.no_grad():\n",
    "    y = fact_model(x)"
   ]
  },
  {
   "cell_type": "markdown",
   "metadata": {},
   "source": [
    "### Test Forward-Backward GPU"
   ]
  },
  {
   "cell_type": "code",
   "execution_count": 26,
   "metadata": {},
   "outputs": [],
   "source": [
    "x = torch.zeros(16,128, dtype=torch.long).cuda()"
   ]
  },
  {
   "cell_type": "code",
   "execution_count": 27,
   "metadata": {},
   "outputs": [
    {
     "name": "stdout",
     "output_type": "stream",
     "text": [
      "158 ms ± 331 µs per loop (mean ± std. dev. of 7 runs, 10 loops each)\n"
     ]
    }
   ],
   "source": [
    "%%timeit\n",
    "y = model(x)\n",
    "y.last_hidden_state.sum().backward()"
   ]
  },
  {
   "cell_type": "code",
   "execution_count": 28,
   "metadata": {},
   "outputs": [
    {
     "name": "stdout",
     "output_type": "stream",
     "text": [
      "94.6 ms ± 85.5 µs per loop (mean ± std. dev. of 7 runs, 10 loops each)\n"
     ]
    }
   ],
   "source": [
    "%%timeit\n",
    "y = fact_model(x)\n",
    "y.last_hidden_state.sum().backward()"
   ]
  },
  {
   "cell_type": "code",
   "execution_count": null,
   "metadata": {},
   "outputs": [],
   "source": []
  }
 ],
 "metadata": {
  "kernelspec": {
   "display_name": "Python 3 (ipykernel)",
   "language": "python",
   "name": "python3"
  },
  "language_info": {
   "codemirror_mode": {
    "name": "ipython",
    "version": 3
   },
   "file_extension": ".py",
   "mimetype": "text/x-python",
   "name": "python",
   "nbconvert_exporter": "python",
   "pygments_lexer": "ipython3",
   "version": "3.9.5"
  }
 },
 "nbformat": 4,
 "nbformat_minor": 4
}
