{
 "cells": [
  {
   "cell_type": "code",
   "execution_count": 1,
   "id": "bc0226f1",
   "metadata": {
    "papermill": {
     "duration": 6.977078,
     "end_time": "2021-08-19T03:10:46.527438",
     "exception": false,
     "start_time": "2021-08-19T03:10:39.550360",
     "status": "completed"
    },
    "tags": []
   },
   "outputs": [],
   "source": [
    "import os, sys\n",
    "import torch\n",
    "import torch.nn as nn\n",
    "from torchvision import models\n",
    "from py_auto_fact import auto_fact"
   ]
  },
  {
   "cell_type": "code",
   "execution_count": 2,
   "id": "b73768a1",
   "metadata": {
    "papermill": {
     "duration": 0.033416,
     "end_time": "2021-08-19T03:10:46.625796",
     "exception": false,
     "start_time": "2021-08-19T03:10:46.592380",
     "status": "completed"
    },
    "tags": []
   },
   "outputs": [],
   "source": [
    "def count_param(module, trainable=False):\n",
    "    if trainable:\n",
    "        return sum(p.numel() for p in module.parameters() if p.requires_grad)\n",
    "    else:\n",
    "        return sum(p.numel() for p in module.parameters())"
   ]
  },
  {
   "cell_type": "markdown",
   "id": "881de45e",
   "metadata": {
    "papermill": {
     "duration": 0.012529,
     "end_time": "2021-08-19T03:10:46.652746",
     "exception": false,
     "start_time": "2021-08-19T03:10:46.640217",
     "status": "completed"
    },
    "tags": []
   },
   "source": [
    "# Init Model"
   ]
  },
  {
   "cell_type": "code",
   "execution_count": 3,
   "id": "846a07b5",
   "metadata": {
    "papermill": {
     "duration": 6.459678,
     "end_time": "2021-08-19T03:10:53.124136",
     "exception": false,
     "start_time": "2021-08-19T03:10:46.664458",
     "status": "completed"
    },
    "scrolled": true,
    "tags": []
   },
   "outputs": [
    {
     "data": {
      "text/plain": [
       "VGG(\n",
       "  (features): Sequential(\n",
       "    (0): Conv2d(3, 64, kernel_size=(3, 3), stride=(1, 1), padding=(1, 1))\n",
       "    (1): ReLU(inplace=True)\n",
       "    (2): Conv2d(64, 64, kernel_size=(3, 3), stride=(1, 1), padding=(1, 1))\n",
       "    (3): ReLU(inplace=True)\n",
       "    (4): MaxPool2d(kernel_size=2, stride=2, padding=0, dilation=1, ceil_mode=False)\n",
       "    (5): Conv2d(64, 128, kernel_size=(3, 3), stride=(1, 1), padding=(1, 1))\n",
       "    (6): ReLU(inplace=True)\n",
       "    (7): Conv2d(128, 128, kernel_size=(3, 3), stride=(1, 1), padding=(1, 1))\n",
       "    (8): ReLU(inplace=True)\n",
       "    (9): MaxPool2d(kernel_size=2, stride=2, padding=0, dilation=1, ceil_mode=False)\n",
       "    (10): Conv2d(128, 256, kernel_size=(3, 3), stride=(1, 1), padding=(1, 1))\n",
       "    (11): ReLU(inplace=True)\n",
       "    (12): Conv2d(256, 256, kernel_size=(3, 3), stride=(1, 1), padding=(1, 1))\n",
       "    (13): ReLU(inplace=True)\n",
       "    (14): Conv2d(256, 256, kernel_size=(3, 3), stride=(1, 1), padding=(1, 1))\n",
       "    (15): ReLU(inplace=True)\n",
       "    (16): MaxPool2d(kernel_size=2, stride=2, padding=0, dilation=1, ceil_mode=False)\n",
       "    (17): Conv2d(256, 512, kernel_size=(3, 3), stride=(1, 1), padding=(1, 1))\n",
       "    (18): ReLU(inplace=True)\n",
       "    (19): Conv2d(512, 512, kernel_size=(3, 3), stride=(1, 1), padding=(1, 1))\n",
       "    (20): ReLU(inplace=True)\n",
       "    (21): Conv2d(512, 512, kernel_size=(3, 3), stride=(1, 1), padding=(1, 1))\n",
       "    (22): ReLU(inplace=True)\n",
       "    (23): MaxPool2d(kernel_size=2, stride=2, padding=0, dilation=1, ceil_mode=False)\n",
       "    (24): Conv2d(512, 512, kernel_size=(3, 3), stride=(1, 1), padding=(1, 1))\n",
       "    (25): ReLU(inplace=True)\n",
       "    (26): Conv2d(512, 512, kernel_size=(3, 3), stride=(1, 1), padding=(1, 1))\n",
       "    (27): ReLU(inplace=True)\n",
       "    (28): Conv2d(512, 512, kernel_size=(3, 3), stride=(1, 1), padding=(1, 1))\n",
       "    (29): ReLU(inplace=True)\n",
       "    (30): MaxPool2d(kernel_size=2, stride=2, padding=0, dilation=1, ceil_mode=False)\n",
       "  )\n",
       "  (avgpool): AdaptiveAvgPool2d(output_size=(7, 7))\n",
       "  (classifier): Sequential(\n",
       "    (0): Linear(in_features=25088, out_features=4096, bias=True)\n",
       "    (1): ReLU(inplace=True)\n",
       "    (2): Dropout(p=0.5, inplace=False)\n",
       "    (3): Linear(in_features=4096, out_features=4096, bias=True)\n",
       "    (4): ReLU(inplace=True)\n",
       "    (5): Dropout(p=0.5, inplace=False)\n",
       "    (6): Linear(in_features=4096, out_features=1000, bias=True)\n",
       "  )\n",
       ")"
      ]
     },
     "execution_count": 3,
     "metadata": {},
     "output_type": "execute_result"
    }
   ],
   "source": [
    "model = models.vgg16(pretrained=True)\n",
    "model"
   ]
  },
  {
   "cell_type": "markdown",
   "id": "157498f5",
   "metadata": {
    "papermill": {
     "duration": 0.025624,
     "end_time": "2021-08-19T03:10:53.328728",
     "exception": false,
     "start_time": "2021-08-19T03:10:53.303104",
     "status": "completed"
    },
    "tags": []
   },
   "source": [
    "# Factorize Model"
   ]
  },
  {
   "cell_type": "code",
   "execution_count": 4,
   "id": "397c1b49",
   "metadata": {
    "papermill": {
     "duration": 0.020808,
     "end_time": "2021-08-19T03:10:53.363394",
     "exception": false,
     "start_time": "2021-08-19T03:10:53.342586",
     "status": "completed"
    },
    "tags": []
   },
   "outputs": [
    {
     "data": {
      "text/plain": [
       "138357544"
      ]
     },
     "execution_count": 4,
     "metadata": {},
     "output_type": "execute_result"
    }
   ],
   "source": [
    "count_param(model)"
   ]
  },
  {
   "cell_type": "markdown",
   "id": "0f8a7467",
   "metadata": {
    "papermill": {
     "duration": 0.011477,
     "end_time": "2021-08-19T03:10:53.388757",
     "exception": false,
     "start_time": "2021-08-19T03:10:53.377280",
     "status": "completed"
    },
    "tags": []
   },
   "source": [
    "### Apply absolute rank"
   ]
  },
  {
   "cell_type": "code",
   "execution_count": 5,
   "id": "e739736b",
   "metadata": {
    "papermill": {
     "duration": 3.823259,
     "end_time": "2021-08-19T03:10:57.223802",
     "exception": false,
     "start_time": "2021-08-19T03:10:53.400543",
     "status": "completed"
    },
    "scrolled": true,
    "tags": []
   },
   "outputs": [
    {
     "ename": "TypeError",
     "evalue": "auto_fact() got an unexpected keyword argument 'eigen_threshold'",
     "output_type": "error",
     "traceback": [
      "\u001b[0;31m---------------------------------------------------------------------------\u001b[0m",
      "\u001b[0;31mTypeError\u001b[0m                                 Traceback (most recent call last)",
      "\u001b[0;32m<timed exec>\u001b[0m in \u001b[0;36m<module>\u001b[0;34m\u001b[0m\n",
      "\u001b[0;31mTypeError\u001b[0m: auto_fact() got an unexpected keyword argument 'eigen_threshold'"
     ]
    }
   ],
   "source": [
    "%%time\n",
    "fact_model = auto_fact(model, rank=256, deepcopy=True, solver='random', eigen_threshold=0.6)\n",
    "count_param(fact_model)"
   ]
  },
  {
   "cell_type": "code",
   "execution_count": 6,
   "id": "1f86d1df",
   "metadata": {
    "papermill": {
     "duration": 5.760341,
     "end_time": "2021-08-19T03:11:03.052635",
     "exception": false,
     "start_time": "2021-08-19T03:10:57.292294",
     "status": "completed"
    },
    "scrolled": true,
    "tags": []
   },
   "outputs": [
    {
     "ename": "TypeError",
     "evalue": "auto_fact() got an unexpected keyword argument 'eigen_threshold'",
     "output_type": "error",
     "traceback": [
      "\u001b[0;31m---------------------------------------------------------------------------\u001b[0m",
      "\u001b[0;31mTypeError\u001b[0m                                 Traceback (most recent call last)",
      "\u001b[0;32m<timed exec>\u001b[0m in \u001b[0;36m<module>\u001b[0;34m\u001b[0m\n",
      "\u001b[0;31mTypeError\u001b[0m: auto_fact() got an unexpected keyword argument 'eigen_threshold'"
     ]
    }
   ],
   "source": [
    "%%time\n",
    "fact_model = auto_fact(model, rank=256, deepcopy=True, solver='svd', eigen_threshold=0.6)\n",
    "count_param(fact_model)"
   ]
  },
  {
   "cell_type": "code",
   "execution_count": 7,
   "id": "9831b66c",
   "metadata": {
    "papermill": {
     "duration": 4.60968,
     "end_time": "2021-08-19T03:11:07.746406",
     "exception": false,
     "start_time": "2021-08-19T03:11:03.136726",
     "status": "completed"
    },
    "scrolled": true,
    "tags": []
   },
   "outputs": [
    {
     "ename": "TypeError",
     "evalue": "auto_fact() got an unexpected keyword argument 'eigen_threshold'",
     "output_type": "error",
     "traceback": [
      "\u001b[0;31m---------------------------------------------------------------------------\u001b[0m",
      "\u001b[0;31mTypeError\u001b[0m                                 Traceback (most recent call last)",
      "\u001b[0;32m<timed exec>\u001b[0m in \u001b[0;36m<module>\u001b[0;34m\u001b[0m\n",
      "\u001b[0;31mTypeError\u001b[0m: auto_fact() got an unexpected keyword argument 'eigen_threshold'"
     ]
    }
   ],
   "source": [
    "%%time\n",
    "fact_model = auto_fact(model, rank=256, deepcopy=True, solver='snmf', eigen_threshold=0.6)\n",
    "count_param(fact_model)"
   ]
  },
  {
   "cell_type": "code",
   "execution_count": 8,
   "id": "c21ddc84",
   "metadata": {
    "papermill": {
     "duration": 3.137669,
     "end_time": "2021-08-19T03:11:10.941034",
     "exception": false,
     "start_time": "2021-08-19T03:11:07.803365",
     "status": "completed"
    },
    "scrolled": true,
    "tags": []
   },
   "outputs": [
    {
     "ename": "TypeError",
     "evalue": "auto_fact() got an unexpected keyword argument 'eigen_threshold'",
     "output_type": "error",
     "traceback": [
      "\u001b[0;31m---------------------------------------------------------------------------\u001b[0m",
      "\u001b[0;31mTypeError\u001b[0m                                 Traceback (most recent call last)",
      "\u001b[0;32m<timed exec>\u001b[0m in \u001b[0;36m<module>\u001b[0;34m\u001b[0m\n",
      "\u001b[0;31mTypeError\u001b[0m: auto_fact() got an unexpected keyword argument 'eigen_threshold'"
     ]
    }
   ],
   "source": [
    "%%time\n",
    "fact_model = auto_fact(model, rank=256, deepcopy=True, solver='random', num_iter=50, eigen_threshold=0.0)\n",
    "count_param(fact_model)"
   ]
  },
  {
   "cell_type": "code",
   "execution_count": 9,
   "id": "e574648b",
   "metadata": {
    "papermill": {
     "duration": 19.391785,
     "end_time": "2021-08-19T03:11:30.383990",
     "exception": false,
     "start_time": "2021-08-19T03:11:10.992205",
     "status": "completed"
    },
    "scrolled": true,
    "tags": []
   },
   "outputs": [
    {
     "ename": "TypeError",
     "evalue": "auto_fact() got an unexpected keyword argument 'eigen_threshold'",
     "output_type": "error",
     "traceback": [
      "\u001b[0;31m---------------------------------------------------------------------------\u001b[0m",
      "\u001b[0;31mTypeError\u001b[0m                                 Traceback (most recent call last)",
      "\u001b[0;32m<timed exec>\u001b[0m in \u001b[0;36m<module>\u001b[0;34m\u001b[0m\n",
      "\u001b[0;31mTypeError\u001b[0m: auto_fact() got an unexpected keyword argument 'eigen_threshold'"
     ]
    }
   ],
   "source": [
    "%%time\n",
    "fact_model = auto_fact(model, rank=256, deepcopy=True, solver='svd', num_iter=50, eigen_threshold=0.0)\n",
    "count_param(fact_model)"
   ]
  },
  {
   "cell_type": "code",
   "execution_count": 10,
   "id": "91b28fa8",
   "metadata": {
    "papermill": {
     "duration": 26.099708,
     "end_time": "2021-08-19T03:11:56.558616",
     "exception": false,
     "start_time": "2021-08-19T03:11:30.458908",
     "status": "completed"
    },
    "scrolled": true,
    "tags": []
   },
   "outputs": [
    {
     "ename": "TypeError",
     "evalue": "auto_fact() got an unexpected keyword argument 'eigen_threshold'",
     "output_type": "error",
     "traceback": [
      "\u001b[0;31m---------------------------------------------------------------------------\u001b[0m",
      "\u001b[0;31mTypeError\u001b[0m                                 Traceback (most recent call last)",
      "\u001b[0;32m<timed exec>\u001b[0m in \u001b[0;36m<module>\u001b[0;34m\u001b[0m\n",
      "\u001b[0;31mTypeError\u001b[0m: auto_fact() got an unexpected keyword argument 'eigen_threshold'"
     ]
    }
   ],
   "source": [
    "%%time\n",
    "fact_model = auto_fact(model, rank=256, deepcopy=True, solver='snmf', num_iter=50, eigen_threshold=0.0)\n",
    "count_param(fact_model)"
   ]
  },
  {
   "cell_type": "markdown",
   "id": "0d54c187",
   "metadata": {
    "papermill": {
     "duration": 0.027924,
     "end_time": "2021-08-19T03:11:56.642455",
     "exception": false,
     "start_time": "2021-08-19T03:11:56.614531",
     "status": "completed"
    },
    "tags": []
   },
   "source": [
    "### Apply percentage rank"
   ]
  },
  {
   "cell_type": "code",
   "execution_count": 11,
   "id": "291a77c2",
   "metadata": {
    "papermill": {
     "duration": 0.384408,
     "end_time": "2021-08-19T03:11:57.041457",
     "exception": false,
     "start_time": "2021-08-19T03:11:56.657049",
     "status": "completed"
    },
    "scrolled": true,
    "tags": []
   },
   "outputs": [
    {
     "name": "stdout",
     "output_type": "stream",
     "text": [
      "CPU times: user 1.1 s, sys: 136 ms, total: 1.24 s\n",
      "Wall time: 417 ms\n"
     ]
    },
    {
     "data": {
      "text/plain": [
       "52613904"
      ]
     },
     "execution_count": 11,
     "metadata": {},
     "output_type": "execute_result"
    }
   ],
   "source": [
    "%%time\n",
    "fact_model = auto_fact(model, rank=0.4, deepcopy=True, solver='random', num_iter=50)\n",
    "count_param(fact_model)"
   ]
  },
  {
   "cell_type": "code",
   "execution_count": 12,
   "id": "850f5883",
   "metadata": {
    "papermill": {
     "duration": 70.82497,
     "end_time": "2021-08-19T03:13:07.928377",
     "exception": false,
     "start_time": "2021-08-19T03:11:57.103407",
     "status": "completed"
    },
    "scrolled": true,
    "tags": []
   },
   "outputs": [
    {
     "name": "stdout",
     "output_type": "stream",
     "text": [
      "CPU times: user 12min 58s, sys: 1min 22s, total: 14min 21s\n",
      "Wall time: 1min 41s\n"
     ]
    },
    {
     "data": {
      "text/plain": [
       "52613904"
      ]
     },
     "execution_count": 12,
     "metadata": {},
     "output_type": "execute_result"
    }
   ],
   "source": [
    "%%time\n",
    "fact_model = auto_fact(model, rank=0.4, deepcopy=True, solver='svd', num_iter=50)\n",
    "count_param(fact_model)"
   ]
  },
  {
   "cell_type": "code",
   "execution_count": 13,
   "id": "cfb74bda",
   "metadata": {
    "papermill": {
     "duration": 93.669024,
     "end_time": "2021-08-19T03:14:41.627691",
     "exception": false,
     "start_time": "2021-08-19T03:13:07.958667",
     "status": "completed"
    },
    "scrolled": true,
    "tags": []
   },
   "outputs": [
    {
     "name": "stdout",
     "output_type": "stream",
     "text": [
      "CPU times: user 12min 23s, sys: 1min 19s, total: 13min 43s\n",
      "Wall time: 1min 29s\n"
     ]
    },
    {
     "data": {
      "text/plain": [
       "52613904"
      ]
     },
     "execution_count": 13,
     "metadata": {},
     "output_type": "execute_result"
    }
   ],
   "source": [
    "%%time\n",
    "fact_model = auto_fact(model, rank=0.4, deepcopy=True, solver='snmf', num_iter=50)\n",
    "count_param(fact_model)"
   ]
  },
  {
   "cell_type": "markdown",
   "id": "a08622d5",
   "metadata": {
    "papermill": {
     "duration": null,
     "end_time": null,
     "exception": null,
     "start_time": null,
     "status": "pending"
    },
    "tags": []
   },
   "source": [
    "# Test on CPU"
   ]
  },
  {
   "cell_type": "markdown",
   "id": "1f8501c6",
   "metadata": {
    "papermill": {
     "duration": null,
     "end_time": null,
     "exception": null,
     "start_time": null,
     "status": "pending"
    },
    "tags": []
   },
   "source": [
    "### Test Inference CPU"
   ]
  },
  {
   "cell_type": "code",
   "execution_count": 14,
   "id": "a0df1723",
   "metadata": {
    "papermill": {
     "duration": null,
     "end_time": null,
     "exception": null,
     "start_time": null,
     "status": "pending"
    },
    "tags": []
   },
   "outputs": [
    {
     "name": "stderr",
     "output_type": "stream",
     "text": [
      "/home/samuel/anaconda3/envs/deep_fact/lib/python3.8/site-packages/torch/nn/functional.py:718: UserWarning: Named tensors and all their associated APIs are an experimental feature and subject to change. Please do not use them for anything important until they are released as stable. (Triggered internally at  /pytorch/c10/core/TensorImpl.h:1156.)\n",
      "  return torch.max_pool2d(input, kernel_size, stride, padding, dilation, ceil_mode)\n"
     ]
    },
    {
     "name": "stdout",
     "output_type": "stream",
     "text": [
      "403 ms ± 1.41 ms per loop (mean ± std. dev. of 7 runs, 1 loop each)\n"
     ]
    }
   ],
   "source": [
    "%%timeit\n",
    "with torch.no_grad():\n",
    "    y = model(torch.zeros(16,3,224,224, dtype=torch.float))"
   ]
  },
  {
   "cell_type": "code",
   "execution_count": 15,
   "id": "3fc63cab",
   "metadata": {
    "papermill": {
     "duration": null,
     "end_time": null,
     "exception": null,
     "start_time": null,
     "status": "pending"
    },
    "tags": []
   },
   "outputs": [
    {
     "name": "stdout",
     "output_type": "stream",
     "text": [
      "256 ms ± 3.25 ms per loop (mean ± std. dev. of 7 runs, 1 loop each)\n"
     ]
    }
   ],
   "source": [
    "%%timeit\n",
    "with torch.no_grad():\n",
    "    y = fact_model(torch.zeros(16,3,224,224, dtype=torch.float))"
   ]
  },
  {
   "cell_type": "markdown",
   "id": "e58a2581",
   "metadata": {
    "papermill": {
     "duration": null,
     "end_time": null,
     "exception": null,
     "start_time": null,
     "status": "pending"
    },
    "tags": []
   },
   "source": [
    "### Test Forward-Backward CPU"
   ]
  },
  {
   "cell_type": "code",
   "execution_count": 16,
   "id": "a9f65325",
   "metadata": {
    "papermill": {
     "duration": null,
     "end_time": null,
     "exception": null,
     "start_time": null,
     "status": "pending"
    },
    "tags": []
   },
   "outputs": [
    {
     "name": "stdout",
     "output_type": "stream",
     "text": [
      "675 ms ± 800 µs per loop (mean ± std. dev. of 7 runs, 1 loop each)\n"
     ]
    }
   ],
   "source": [
    "%%timeit\n",
    "y = model(torch.zeros(8,3,224,224, dtype=torch.float))\n",
    "y.sum().backward()"
   ]
  },
  {
   "cell_type": "code",
   "execution_count": 17,
   "id": "caee9f4e",
   "metadata": {
    "papermill": {
     "duration": null,
     "end_time": null,
     "exception": null,
     "start_time": null,
     "status": "pending"
    },
    "tags": []
   },
   "outputs": [
    {
     "name": "stdout",
     "output_type": "stream",
     "text": [
      "376 ms ± 779 µs per loop (mean ± std. dev. of 7 runs, 1 loop each)\n"
     ]
    }
   ],
   "source": [
    "%%timeit\n",
    "y = fact_model(torch.zeros(8,3,224,224, dtype=torch.float))\n",
    "y.sum().backward()"
   ]
  },
  {
   "cell_type": "markdown",
   "id": "aafdbece",
   "metadata": {
    "papermill": {
     "duration": null,
     "end_time": null,
     "exception": null,
     "start_time": null,
     "status": "pending"
    },
    "tags": []
   },
   "source": [
    "# Test on GPU"
   ]
  },
  {
   "cell_type": "markdown",
   "id": "cfd8c381",
   "metadata": {
    "papermill": {
     "duration": null,
     "end_time": null,
     "exception": null,
     "start_time": null,
     "status": "pending"
    },
    "tags": []
   },
   "source": [
    "### Move models to GPU"
   ]
  },
  {
   "cell_type": "code",
   "execution_count": 18,
   "id": "e11be740",
   "metadata": {
    "papermill": {
     "duration": null,
     "end_time": null,
     "exception": null,
     "start_time": null,
     "status": "pending"
    },
    "tags": []
   },
   "outputs": [],
   "source": [
    "model = model.cuda()\n",
    "fact_model = fact_model.cuda()"
   ]
  },
  {
   "cell_type": "markdown",
   "id": "d185279a",
   "metadata": {
    "papermill": {
     "duration": null,
     "end_time": null,
     "exception": null,
     "start_time": null,
     "status": "pending"
    },
    "tags": []
   },
   "source": [
    "### Test Inference GPU"
   ]
  },
  {
   "cell_type": "code",
   "execution_count": 19,
   "id": "4214b86f",
   "metadata": {
    "papermill": {
     "duration": null,
     "end_time": null,
     "exception": null,
     "start_time": null,
     "status": "pending"
    },
    "tags": []
   },
   "outputs": [],
   "source": [
    "x = torch.zeros(16,3,224,224, dtype=torch.float).cuda()"
   ]
  },
  {
   "cell_type": "code",
   "execution_count": 20,
   "id": "9e6fd746",
   "metadata": {
    "papermill": {
     "duration": null,
     "end_time": null,
     "exception": null,
     "start_time": null,
     "status": "pending"
    },
    "tags": []
   },
   "outputs": [
    {
     "name": "stdout",
     "output_type": "stream",
     "text": [
      "41.2 ms ± 183 µs per loop (mean ± std. dev. of 7 runs, 100 loops each)\n"
     ]
    }
   ],
   "source": [
    "%%timeit\n",
    "with torch.no_grad():\n",
    "    y = model(x)"
   ]
  },
  {
   "cell_type": "code",
   "execution_count": 21,
   "id": "69c9e24f",
   "metadata": {
    "papermill": {
     "duration": null,
     "end_time": null,
     "exception": null,
     "start_time": null,
     "status": "pending"
    },
    "tags": []
   },
   "outputs": [
    {
     "name": "stdout",
     "output_type": "stream",
     "text": [
      "25.7 ms ± 17.9 µs per loop (mean ± std. dev. of 7 runs, 10 loops each)\n"
     ]
    }
   ],
   "source": [
    "%%timeit\n",
    "with torch.no_grad():\n",
    "    y = fact_model(x)"
   ]
  },
  {
   "cell_type": "markdown",
   "id": "fc6aca2a",
   "metadata": {
    "papermill": {
     "duration": null,
     "end_time": null,
     "exception": null,
     "start_time": null,
     "status": "pending"
    },
    "tags": []
   },
   "source": [
    "### Test Forward-Backward GPU"
   ]
  },
  {
   "cell_type": "code",
   "execution_count": 22,
   "id": "484bad9c",
   "metadata": {
    "papermill": {
     "duration": null,
     "end_time": null,
     "exception": null,
     "start_time": null,
     "status": "pending"
    },
    "tags": []
   },
   "outputs": [],
   "source": [
    "x = torch.zeros(8,3,224,224, dtype=torch.float).cuda()"
   ]
  },
  {
   "cell_type": "code",
   "execution_count": null,
   "id": "69774258",
   "metadata": {
    "papermill": {
     "duration": null,
     "end_time": null,
     "exception": null,
     "start_time": null,
     "status": "pending"
    },
    "tags": []
   },
   "outputs": [],
   "source": [
    "%%timeit\n",
    "y = model(x)\n",
    "y.sum().backward()"
   ]
  },
  {
   "cell_type": "code",
   "execution_count": null,
   "id": "4abe3297",
   "metadata": {
    "papermill": {
     "duration": null,
     "end_time": null,
     "exception": null,
     "start_time": null,
     "status": "pending"
    },
    "tags": []
   },
   "outputs": [],
   "source": [
    "%%timeit\n",
    "y = fact_model(x)\n",
    "y.sum().backward()"
   ]
  },
  {
   "cell_type": "code",
   "execution_count": null,
   "id": "44d8016a",
   "metadata": {},
   "outputs": [],
   "source": []
  }
 ],
 "metadata": {
  "kernelspec": {
   "display_name": "env_deep_fact",
   "language": "python",
   "name": "env_deep_fact"
  },
  "language_info": {
   "codemirror_mode": {
    "name": "ipython",
    "version": 3
   },
   "file_extension": ".py",
   "mimetype": "text/x-python",
   "name": "python",
   "nbconvert_exporter": "python",
   "pygments_lexer": "ipython3",
   "version": "3.8.11"
  },
  "papermill": {
   "default_parameters": {},
   "duration": null,
   "end_time": null,
   "environment_variables": {},
   "exception": null,
   "input_path": "factorize_vgg.ipynb",
   "output_path": "factorize_vgg.ipynb",
   "parameters": {},
   "start_time": "2021-08-19T03:10:38.168453",
   "version": "2.3.3"
  }
 },
 "nbformat": 4,
 "nbformat_minor": 5
}
